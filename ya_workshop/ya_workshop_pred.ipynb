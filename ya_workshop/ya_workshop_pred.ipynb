{
 "cells": [
  {
   "cell_type": "code",
   "execution_count": 1,
   "id": "97f7cb6e",
   "metadata": {},
   "outputs": [],
   "source": [
    "import warnings\n",
    "import pandas as pd\n",
    "import numpy as np\n",
    "#import seaborn as sns\n",
    "import matplotlib.pyplot as plt\n",
    "from sklearn.model_selection import RandomizedSearchCV\n",
    "#from sklearn.impute import KNNImputer\n",
    "from sklearn.preprocessing import LabelEncoder\n",
    "warnings.filterwarnings(\"ignore\")\n",
    "pd.options.mode.chained_assignment = None\n",
    "%matplotlib inline"
   ]
  },
  {
   "cell_type": "code",
   "execution_count": 2,
   "id": "f7f07849",
   "metadata": {},
   "outputs": [],
   "source": [
    "import lightgbm as lgb\n",
    "from catboost import CatBoostRegressor"
   ]
  },
  {
   "cell_type": "code",
   "execution_count": 3,
   "id": "2df2c406",
   "metadata": {},
   "outputs": [],
   "source": [
    "RANDOM_STATE = 12345"
   ]
  },
  {
   "cell_type": "code",
   "execution_count": 4,
   "id": "d12ddb86",
   "metadata": {},
   "outputs": [],
   "source": [
    "df_train = pd.read_csv('train.csv')\n",
    "df_test = pd.read_csv('test.csv')"
   ]
  },
  {
   "cell_type": "code",
   "execution_count": 5,
   "id": "c9520cb2",
   "metadata": {},
   "outputs": [
    {
     "data": {
      "text/html": [
       "<div>\n",
       "<style scoped>\n",
       "    .dataframe tbody tr th:only-of-type {\n",
       "        vertical-align: middle;\n",
       "    }\n",
       "\n",
       "    .dataframe tbody tr th {\n",
       "        vertical-align: top;\n",
       "    }\n",
       "\n",
       "    .dataframe thead th {\n",
       "        text-align: right;\n",
       "    }\n",
       "</style>\n",
       "<table border=\"1\" class=\"dataframe\">\n",
       "  <thead>\n",
       "    <tr style=\"text-align: right;\">\n",
       "      <th></th>\n",
       "      <th>year</th>\n",
       "      <th>make</th>\n",
       "      <th>model</th>\n",
       "      <th>trim</th>\n",
       "      <th>body</th>\n",
       "      <th>transmission</th>\n",
       "      <th>vin</th>\n",
       "      <th>state</th>\n",
       "      <th>condition</th>\n",
       "      <th>odometer</th>\n",
       "      <th>color</th>\n",
       "      <th>interior</th>\n",
       "      <th>seller</th>\n",
       "      <th>sellingprice</th>\n",
       "      <th>saledate</th>\n",
       "    </tr>\n",
       "  </thead>\n",
       "  <tbody>\n",
       "    <tr>\n",
       "      <th>0</th>\n",
       "      <td>2011</td>\n",
       "      <td>Ford</td>\n",
       "      <td>Edge</td>\n",
       "      <td>SEL</td>\n",
       "      <td>suv</td>\n",
       "      <td>automatic</td>\n",
       "      <td>2fmdk3jc4bba41556</td>\n",
       "      <td>md</td>\n",
       "      <td>4.2</td>\n",
       "      <td>111041.0</td>\n",
       "      <td>black</td>\n",
       "      <td>black</td>\n",
       "      <td>santander consumer</td>\n",
       "      <td>12500</td>\n",
       "      <td>Tue Jun 02 2015 02:30:00 GMT-0700 (PDT)</td>\n",
       "    </tr>\n",
       "    <tr>\n",
       "      <th>1</th>\n",
       "      <td>2014</td>\n",
       "      <td>Ford</td>\n",
       "      <td>Fusion</td>\n",
       "      <td>SE</td>\n",
       "      <td>Sedan</td>\n",
       "      <td>automatic</td>\n",
       "      <td>3fa6p0h75er208976</td>\n",
       "      <td>mo</td>\n",
       "      <td>3.5</td>\n",
       "      <td>31034.0</td>\n",
       "      <td>black</td>\n",
       "      <td>black</td>\n",
       "      <td>ars/avis budget group</td>\n",
       "      <td>14500</td>\n",
       "      <td>Wed Feb 25 2015 02:00:00 GMT-0800 (PST)</td>\n",
       "    </tr>\n",
       "    <tr>\n",
       "      <th>2</th>\n",
       "      <td>2012</td>\n",
       "      <td>Nissan</td>\n",
       "      <td>Sentra</td>\n",
       "      <td>2.0 SL</td>\n",
       "      <td>sedan</td>\n",
       "      <td>automatic</td>\n",
       "      <td>3n1ab6ap4cl698412</td>\n",
       "      <td>nj</td>\n",
       "      <td>2.2</td>\n",
       "      <td>35619.0</td>\n",
       "      <td>black</td>\n",
       "      <td>black</td>\n",
       "      <td>nissan-infiniti lt</td>\n",
       "      <td>9100</td>\n",
       "      <td>Wed Jun 10 2015 02:30:00 GMT-0700 (PDT)</td>\n",
       "    </tr>\n",
       "    <tr>\n",
       "      <th>3</th>\n",
       "      <td>2003</td>\n",
       "      <td>HUMMER</td>\n",
       "      <td>H2</td>\n",
       "      <td>Base</td>\n",
       "      <td>suv</td>\n",
       "      <td>automatic</td>\n",
       "      <td>5grgn23u93h101360</td>\n",
       "      <td>tx</td>\n",
       "      <td>2.8</td>\n",
       "      <td>131301.0</td>\n",
       "      <td>gold</td>\n",
       "      <td>beige</td>\n",
       "      <td>wichita falls ford lin inc</td>\n",
       "      <td>13300</td>\n",
       "      <td>Wed Jun 17 2015 03:00:00 GMT-0700 (PDT)</td>\n",
       "    </tr>\n",
       "    <tr>\n",
       "      <th>4</th>\n",
       "      <td>2007</td>\n",
       "      <td>Ford</td>\n",
       "      <td>Fusion</td>\n",
       "      <td>SEL</td>\n",
       "      <td>Sedan</td>\n",
       "      <td>automatic</td>\n",
       "      <td>3fahp08z17r268380</td>\n",
       "      <td>md</td>\n",
       "      <td>2.0</td>\n",
       "      <td>127709.0</td>\n",
       "      <td>black</td>\n",
       "      <td>black</td>\n",
       "      <td>purple heart</td>\n",
       "      <td>1300</td>\n",
       "      <td>Tue Feb 03 2015 04:00:00 GMT-0800 (PST)</td>\n",
       "    </tr>\n",
       "  </tbody>\n",
       "</table>\n",
       "</div>"
      ],
      "text/plain": [
       "   year    make   model    trim   body transmission                vin state  \\\n",
       "0  2011    Ford    Edge     SEL    suv    automatic  2fmdk3jc4bba41556    md   \n",
       "1  2014    Ford  Fusion      SE  Sedan    automatic  3fa6p0h75er208976    mo   \n",
       "2  2012  Nissan  Sentra  2.0 SL  sedan    automatic  3n1ab6ap4cl698412    nj   \n",
       "3  2003  HUMMER      H2    Base    suv    automatic  5grgn23u93h101360    tx   \n",
       "4  2007    Ford  Fusion     SEL  Sedan    automatic  3fahp08z17r268380    md   \n",
       "\n",
       "   condition  odometer  color interior                      seller  \\\n",
       "0        4.2  111041.0  black    black          santander consumer   \n",
       "1        3.5   31034.0  black    black       ars/avis budget group   \n",
       "2        2.2   35619.0  black    black          nissan-infiniti lt   \n",
       "3        2.8  131301.0   gold    beige  wichita falls ford lin inc   \n",
       "4        2.0  127709.0  black    black                purple heart   \n",
       "\n",
       "   sellingprice                                 saledate  \n",
       "0         12500  Tue Jun 02 2015 02:30:00 GMT-0700 (PDT)  \n",
       "1         14500  Wed Feb 25 2015 02:00:00 GMT-0800 (PST)  \n",
       "2          9100  Wed Jun 10 2015 02:30:00 GMT-0700 (PDT)  \n",
       "3         13300  Wed Jun 17 2015 03:00:00 GMT-0700 (PDT)  \n",
       "4          1300  Tue Feb 03 2015 04:00:00 GMT-0800 (PST)  "
      ]
     },
     "execution_count": 5,
     "metadata": {},
     "output_type": "execute_result"
    }
   ],
   "source": [
    "df_train.head()"
   ]
  },
  {
   "cell_type": "code",
   "execution_count": 6,
   "id": "8594e409",
   "metadata": {},
   "outputs": [
    {
     "name": "stdout",
     "output_type": "stream",
     "text": [
      "<class 'pandas.core.frame.DataFrame'>\n",
      "RangeIndex: 440236 entries, 0 to 440235\n",
      "Data columns (total 15 columns):\n",
      " #   Column        Non-Null Count   Dtype  \n",
      "---  ------        --------------   -----  \n",
      " 0   year          440236 non-null  int64  \n",
      " 1   make          432193 non-null  object \n",
      " 2   model         432113 non-null  object \n",
      " 3   trim          431899 non-null  object \n",
      " 4   body          429843 non-null  object \n",
      " 5   transmission  388775 non-null  object \n",
      " 6   vin           440236 non-null  object \n",
      " 7   state         440236 non-null  object \n",
      " 8   condition     430831 non-null  float64\n",
      " 9   odometer      440167 non-null  float64\n",
      " 10  color         439650 non-null  object \n",
      " 11  interior      439650 non-null  object \n",
      " 12  seller        440236 non-null  object \n",
      " 13  sellingprice  440236 non-null  int64  \n",
      " 14  saledate      440236 non-null  object \n",
      "dtypes: float64(2), int64(2), object(11)\n",
      "memory usage: 50.4+ MB\n"
     ]
    }
   ],
   "source": [
    "df_train.info()"
   ]
  },
  {
   "cell_type": "code",
   "execution_count": 7,
   "id": "428214f7",
   "metadata": {},
   "outputs": [
    {
     "data": {
      "text/html": [
       "<div>\n",
       "<style scoped>\n",
       "    .dataframe tbody tr th:only-of-type {\n",
       "        vertical-align: middle;\n",
       "    }\n",
       "\n",
       "    .dataframe tbody tr th {\n",
       "        vertical-align: top;\n",
       "    }\n",
       "\n",
       "    .dataframe thead th {\n",
       "        text-align: right;\n",
       "    }\n",
       "</style>\n",
       "<table border=\"1\" class=\"dataframe\">\n",
       "  <thead>\n",
       "    <tr style=\"text-align: right;\">\n",
       "      <th></th>\n",
       "      <th>year</th>\n",
       "      <th>make</th>\n",
       "      <th>model</th>\n",
       "      <th>trim</th>\n",
       "      <th>body</th>\n",
       "      <th>transmission</th>\n",
       "      <th>vin</th>\n",
       "      <th>state</th>\n",
       "      <th>condition</th>\n",
       "      <th>odometer</th>\n",
       "      <th>color</th>\n",
       "      <th>interior</th>\n",
       "      <th>seller</th>\n",
       "      <th>saledate</th>\n",
       "    </tr>\n",
       "  </thead>\n",
       "  <tbody>\n",
       "    <tr>\n",
       "      <th>0</th>\n",
       "      <td>2005</td>\n",
       "      <td>Cadillac</td>\n",
       "      <td>CTS</td>\n",
       "      <td>Base</td>\n",
       "      <td>Sedan</td>\n",
       "      <td>automatic</td>\n",
       "      <td>1g6dp567450124779</td>\n",
       "      <td>ca</td>\n",
       "      <td>2.7</td>\n",
       "      <td>116970.0</td>\n",
       "      <td>silver</td>\n",
       "      <td>black</td>\n",
       "      <td>lexus of stevens creek</td>\n",
       "      <td>Wed Jan 14 2015 04:30:00 GMT-0800 (PST)</td>\n",
       "    </tr>\n",
       "    <tr>\n",
       "      <th>1</th>\n",
       "      <td>2014</td>\n",
       "      <td>GMC</td>\n",
       "      <td>Savana Cargo</td>\n",
       "      <td>2500</td>\n",
       "      <td>Van</td>\n",
       "      <td>NaN</td>\n",
       "      <td>1gtw7fca7e1902207</td>\n",
       "      <td>pa</td>\n",
       "      <td>4.4</td>\n",
       "      <td>6286.0</td>\n",
       "      <td>white</td>\n",
       "      <td>gray</td>\n",
       "      <td>u-haul</td>\n",
       "      <td>Fri Feb 27 2015 01:00:00 GMT-0800 (PST)</td>\n",
       "    </tr>\n",
       "    <tr>\n",
       "      <th>2</th>\n",
       "      <td>2013</td>\n",
       "      <td>Nissan</td>\n",
       "      <td>Murano</td>\n",
       "      <td>S</td>\n",
       "      <td>SUV</td>\n",
       "      <td>automatic</td>\n",
       "      <td>jn8az1mw6dw303497</td>\n",
       "      <td>oh</td>\n",
       "      <td>4.6</td>\n",
       "      <td>11831.0</td>\n",
       "      <td>gray</td>\n",
       "      <td>black</td>\n",
       "      <td>nissan-infiniti lt</td>\n",
       "      <td>Tue Feb 24 2015 01:30:00 GMT-0800 (PST)</td>\n",
       "    </tr>\n",
       "    <tr>\n",
       "      <th>3</th>\n",
       "      <td>2013</td>\n",
       "      <td>Chevrolet</td>\n",
       "      <td>Impala</td>\n",
       "      <td>LS Fleet</td>\n",
       "      <td>Sedan</td>\n",
       "      <td>automatic</td>\n",
       "      <td>2g1wf5e34d1160703</td>\n",
       "      <td>fl</td>\n",
       "      <td>2.3</td>\n",
       "      <td>57105.0</td>\n",
       "      <td>silver</td>\n",
       "      <td>black</td>\n",
       "      <td>onemain rem/auto club of miami inc dba north dad</td>\n",
       "      <td>Fri Mar 06 2015 02:00:00 GMT-0800 (PST)</td>\n",
       "    </tr>\n",
       "    <tr>\n",
       "      <th>4</th>\n",
       "      <td>2013</td>\n",
       "      <td>Nissan</td>\n",
       "      <td>Titan</td>\n",
       "      <td>SV</td>\n",
       "      <td>Crew Cab</td>\n",
       "      <td>automatic</td>\n",
       "      <td>1n6aa0ec3dn301209</td>\n",
       "      <td>tn</td>\n",
       "      <td>2.9</td>\n",
       "      <td>31083.0</td>\n",
       "      <td>black</td>\n",
       "      <td>black</td>\n",
       "      <td>nissan north america inc.</td>\n",
       "      <td>Wed Jun 03 2015 03:30:00 GMT-0700 (PDT)</td>\n",
       "    </tr>\n",
       "  </tbody>\n",
       "</table>\n",
       "</div>"
      ],
      "text/plain": [
       "   year       make         model      trim      body transmission  \\\n",
       "0  2005   Cadillac           CTS      Base     Sedan    automatic   \n",
       "1  2014        GMC  Savana Cargo      2500       Van          NaN   \n",
       "2  2013     Nissan        Murano         S       SUV    automatic   \n",
       "3  2013  Chevrolet        Impala  LS Fleet     Sedan    automatic   \n",
       "4  2013     Nissan         Titan        SV  Crew Cab    automatic   \n",
       "\n",
       "                 vin state  condition  odometer   color interior  \\\n",
       "0  1g6dp567450124779    ca        2.7  116970.0  silver    black   \n",
       "1  1gtw7fca7e1902207    pa        4.4    6286.0   white     gray   \n",
       "2  jn8az1mw6dw303497    oh        4.6   11831.0    gray    black   \n",
       "3  2g1wf5e34d1160703    fl        2.3   57105.0  silver    black   \n",
       "4  1n6aa0ec3dn301209    tn        2.9   31083.0   black    black   \n",
       "\n",
       "                                             seller  \\\n",
       "0                            lexus of stevens creek   \n",
       "1                                            u-haul   \n",
       "2                                nissan-infiniti lt   \n",
       "3  onemain rem/auto club of miami inc dba north dad   \n",
       "4                         nissan north america inc.   \n",
       "\n",
       "                                  saledate  \n",
       "0  Wed Jan 14 2015 04:30:00 GMT-0800 (PST)  \n",
       "1  Fri Feb 27 2015 01:00:00 GMT-0800 (PST)  \n",
       "2  Tue Feb 24 2015 01:30:00 GMT-0800 (PST)  \n",
       "3  Fri Mar 06 2015 02:00:00 GMT-0800 (PST)  \n",
       "4  Wed Jun 03 2015 03:30:00 GMT-0700 (PDT)  "
      ]
     },
     "execution_count": 7,
     "metadata": {},
     "output_type": "execute_result"
    }
   ],
   "source": [
    "df_test.head()"
   ]
  },
  {
   "cell_type": "code",
   "execution_count": 8,
   "id": "f0b57e6b",
   "metadata": {},
   "outputs": [
    {
     "data": {
      "text/html": [
       "<style type=\"text/css\">\n",
       "#T_6c077_row0_col0, #T_6c077_row6_col0, #T_6c077_row7_col0, #T_6c077_row9_col0, #T_6c077_row10_col0, #T_6c077_row11_col0, #T_6c077_row12_col0, #T_6c077_row13_col0, #T_6c077_row14_col0 {\n",
       "  background-color: #3b4cc0;\n",
       "  color: #f1f1f1;\n",
       "}\n",
       "#T_6c077_row1_col0, #T_6c077_row2_col0, #T_6c077_row3_col0, #T_6c077_row4_col0, #T_6c077_row8_col0 {\n",
       "  background-color: #6f92f3;\n",
       "  color: #f1f1f1;\n",
       "}\n",
       "#T_6c077_row5_col0 {\n",
       "  background-color: #b40426;\n",
       "  color: #f1f1f1;\n",
       "}\n",
       "</style>\n",
       "<table id=\"T_6c077\">\n",
       "  <thead>\n",
       "    <tr>\n",
       "      <th class=\"blank level0\" >&nbsp;</th>\n",
       "      <th id=\"T_6c077_level0_col0\" class=\"col_heading level0 col0\" >0</th>\n",
       "    </tr>\n",
       "  </thead>\n",
       "  <tbody>\n",
       "    <tr>\n",
       "      <th id=\"T_6c077_level0_row0\" class=\"row_heading level0 row0\" >year</th>\n",
       "      <td id=\"T_6c077_row0_col0\" class=\"data row0 col0\" >0.000000</td>\n",
       "    </tr>\n",
       "    <tr>\n",
       "      <th id=\"T_6c077_level0_row1\" class=\"row_heading level0 row1\" >make</th>\n",
       "      <td id=\"T_6c077_row1_col0\" class=\"data row1 col0\" >2.000000</td>\n",
       "    </tr>\n",
       "    <tr>\n",
       "      <th id=\"T_6c077_level0_row2\" class=\"row_heading level0 row2\" >model</th>\n",
       "      <td id=\"T_6c077_row2_col0\" class=\"data row2 col0\" >2.000000</td>\n",
       "    </tr>\n",
       "    <tr>\n",
       "      <th id=\"T_6c077_level0_row3\" class=\"row_heading level0 row3\" >trim</th>\n",
       "      <td id=\"T_6c077_row3_col0\" class=\"data row3 col0\" >2.000000</td>\n",
       "    </tr>\n",
       "    <tr>\n",
       "      <th id=\"T_6c077_level0_row4\" class=\"row_heading level0 row4\" >body</th>\n",
       "      <td id=\"T_6c077_row4_col0\" class=\"data row4 col0\" >2.000000</td>\n",
       "    </tr>\n",
       "    <tr>\n",
       "      <th id=\"T_6c077_level0_row5\" class=\"row_heading level0 row5\" >transmission</th>\n",
       "      <td id=\"T_6c077_row5_col0\" class=\"data row5 col0\" >12.000000</td>\n",
       "    </tr>\n",
       "    <tr>\n",
       "      <th id=\"T_6c077_level0_row6\" class=\"row_heading level0 row6\" >vin</th>\n",
       "      <td id=\"T_6c077_row6_col0\" class=\"data row6 col0\" >0.000000</td>\n",
       "    </tr>\n",
       "    <tr>\n",
       "      <th id=\"T_6c077_level0_row7\" class=\"row_heading level0 row7\" >state</th>\n",
       "      <td id=\"T_6c077_row7_col0\" class=\"data row7 col0\" >0.000000</td>\n",
       "    </tr>\n",
       "    <tr>\n",
       "      <th id=\"T_6c077_level0_row8\" class=\"row_heading level0 row8\" >condition</th>\n",
       "      <td id=\"T_6c077_row8_col0\" class=\"data row8 col0\" >2.000000</td>\n",
       "    </tr>\n",
       "    <tr>\n",
       "      <th id=\"T_6c077_level0_row9\" class=\"row_heading level0 row9\" >odometer</th>\n",
       "      <td id=\"T_6c077_row9_col0\" class=\"data row9 col0\" >0.000000</td>\n",
       "    </tr>\n",
       "    <tr>\n",
       "      <th id=\"T_6c077_level0_row10\" class=\"row_heading level0 row10\" >color</th>\n",
       "      <td id=\"T_6c077_row10_col0\" class=\"data row10 col0\" >0.000000</td>\n",
       "    </tr>\n",
       "    <tr>\n",
       "      <th id=\"T_6c077_level0_row11\" class=\"row_heading level0 row11\" >interior</th>\n",
       "      <td id=\"T_6c077_row11_col0\" class=\"data row11 col0\" >0.000000</td>\n",
       "    </tr>\n",
       "    <tr>\n",
       "      <th id=\"T_6c077_level0_row12\" class=\"row_heading level0 row12\" >seller</th>\n",
       "      <td id=\"T_6c077_row12_col0\" class=\"data row12 col0\" >0.000000</td>\n",
       "    </tr>\n",
       "    <tr>\n",
       "      <th id=\"T_6c077_level0_row13\" class=\"row_heading level0 row13\" >sellingprice</th>\n",
       "      <td id=\"T_6c077_row13_col0\" class=\"data row13 col0\" >0.000000</td>\n",
       "    </tr>\n",
       "    <tr>\n",
       "      <th id=\"T_6c077_level0_row14\" class=\"row_heading level0 row14\" >saledate</th>\n",
       "      <td id=\"T_6c077_row14_col0\" class=\"data row14 col0\" >0.000000</td>\n",
       "    </tr>\n",
       "  </tbody>\n",
       "</table>\n"
      ],
      "text/plain": [
       "<pandas.io.formats.style.Styler at 0x2091b428b80>"
      ]
     },
     "execution_count": 8,
     "metadata": {},
     "output_type": "execute_result"
    }
   ],
   "source": [
    "pd.DataFrame(round(df_train.isna().mean()*100,)).style.background_gradient('coolwarm')"
   ]
  },
  {
   "cell_type": "code",
   "execution_count": 9,
   "id": "19e77467",
   "metadata": {},
   "outputs": [
    {
     "data": {
      "text/html": [
       "<style type=\"text/css\">\n",
       "#T_aa19b_row0_col0, #T_aa19b_row6_col0, #T_aa19b_row7_col0, #T_aa19b_row9_col0, #T_aa19b_row10_col0, #T_aa19b_row11_col0, #T_aa19b_row12_col0, #T_aa19b_row13_col0 {\n",
       "  background-color: #3b4cc0;\n",
       "  color: #f1f1f1;\n",
       "}\n",
       "#T_aa19b_row1_col0, #T_aa19b_row2_col0, #T_aa19b_row3_col0, #T_aa19b_row4_col0, #T_aa19b_row8_col0 {\n",
       "  background-color: #6f92f3;\n",
       "  color: #f1f1f1;\n",
       "}\n",
       "#T_aa19b_row5_col0 {\n",
       "  background-color: #b40426;\n",
       "  color: #f1f1f1;\n",
       "}\n",
       "</style>\n",
       "<table id=\"T_aa19b\">\n",
       "  <thead>\n",
       "    <tr>\n",
       "      <th class=\"blank level0\" >&nbsp;</th>\n",
       "      <th id=\"T_aa19b_level0_col0\" class=\"col_heading level0 col0\" >0</th>\n",
       "    </tr>\n",
       "  </thead>\n",
       "  <tbody>\n",
       "    <tr>\n",
       "      <th id=\"T_aa19b_level0_row0\" class=\"row_heading level0 row0\" >year</th>\n",
       "      <td id=\"T_aa19b_row0_col0\" class=\"data row0 col0\" >0.000000</td>\n",
       "    </tr>\n",
       "    <tr>\n",
       "      <th id=\"T_aa19b_level0_row1\" class=\"row_heading level0 row1\" >make</th>\n",
       "      <td id=\"T_aa19b_row1_col0\" class=\"data row1 col0\" >2.000000</td>\n",
       "    </tr>\n",
       "    <tr>\n",
       "      <th id=\"T_aa19b_level0_row2\" class=\"row_heading level0 row2\" >model</th>\n",
       "      <td id=\"T_aa19b_row2_col0\" class=\"data row2 col0\" >2.000000</td>\n",
       "    </tr>\n",
       "    <tr>\n",
       "      <th id=\"T_aa19b_level0_row3\" class=\"row_heading level0 row3\" >trim</th>\n",
       "      <td id=\"T_aa19b_row3_col0\" class=\"data row3 col0\" >2.000000</td>\n",
       "    </tr>\n",
       "    <tr>\n",
       "      <th id=\"T_aa19b_level0_row4\" class=\"row_heading level0 row4\" >body</th>\n",
       "      <td id=\"T_aa19b_row4_col0\" class=\"data row4 col0\" >2.000000</td>\n",
       "    </tr>\n",
       "    <tr>\n",
       "      <th id=\"T_aa19b_level0_row5\" class=\"row_heading level0 row5\" >transmission</th>\n",
       "      <td id=\"T_aa19b_row5_col0\" class=\"data row5 col0\" >12.000000</td>\n",
       "    </tr>\n",
       "    <tr>\n",
       "      <th id=\"T_aa19b_level0_row6\" class=\"row_heading level0 row6\" >vin</th>\n",
       "      <td id=\"T_aa19b_row6_col0\" class=\"data row6 col0\" >0.000000</td>\n",
       "    </tr>\n",
       "    <tr>\n",
       "      <th id=\"T_aa19b_level0_row7\" class=\"row_heading level0 row7\" >state</th>\n",
       "      <td id=\"T_aa19b_row7_col0\" class=\"data row7 col0\" >0.000000</td>\n",
       "    </tr>\n",
       "    <tr>\n",
       "      <th id=\"T_aa19b_level0_row8\" class=\"row_heading level0 row8\" >condition</th>\n",
       "      <td id=\"T_aa19b_row8_col0\" class=\"data row8 col0\" >2.000000</td>\n",
       "    </tr>\n",
       "    <tr>\n",
       "      <th id=\"T_aa19b_level0_row9\" class=\"row_heading level0 row9\" >odometer</th>\n",
       "      <td id=\"T_aa19b_row9_col0\" class=\"data row9 col0\" >0.000000</td>\n",
       "    </tr>\n",
       "    <tr>\n",
       "      <th id=\"T_aa19b_level0_row10\" class=\"row_heading level0 row10\" >color</th>\n",
       "      <td id=\"T_aa19b_row10_col0\" class=\"data row10 col0\" >0.000000</td>\n",
       "    </tr>\n",
       "    <tr>\n",
       "      <th id=\"T_aa19b_level0_row11\" class=\"row_heading level0 row11\" >interior</th>\n",
       "      <td id=\"T_aa19b_row11_col0\" class=\"data row11 col0\" >0.000000</td>\n",
       "    </tr>\n",
       "    <tr>\n",
       "      <th id=\"T_aa19b_level0_row12\" class=\"row_heading level0 row12\" >seller</th>\n",
       "      <td id=\"T_aa19b_row12_col0\" class=\"data row12 col0\" >0.000000</td>\n",
       "    </tr>\n",
       "    <tr>\n",
       "      <th id=\"T_aa19b_level0_row13\" class=\"row_heading level0 row13\" >saledate</th>\n",
       "      <td id=\"T_aa19b_row13_col0\" class=\"data row13 col0\" >0.000000</td>\n",
       "    </tr>\n",
       "  </tbody>\n",
       "</table>\n"
      ],
      "text/plain": [
       "<pandas.io.formats.style.Styler at 0x2091b435370>"
      ]
     },
     "execution_count": 9,
     "metadata": {},
     "output_type": "execute_result"
    }
   ],
   "source": [
    "pd.DataFrame(round(df_test.isna().mean()*100,)).style.background_gradient('coolwarm')"
   ]
  },
  {
   "cell_type": "code",
   "execution_count": 10,
   "id": "7c041b20",
   "metadata": {},
   "outputs": [],
   "source": [
    "t = df_train.groupby(['make','model','year'])['transmission'].value_counts(1)\n",
    "\n",
    "def filltr(row):\n",
    "    if pd.isnull(row['transmission']):\n",
    "        make = row['make']\n",
    "        model = row['model']\n",
    "        year = row['year']\n",
    "        if (make, model, year) in t.index:\n",
    "            prob = t.loc[(make, model, year)]\n",
    "            probtr = prob.index[0]\n",
    "            return probtr\n",
    "        else:\n",
    "            return np.nan\n",
    "    else:\n",
    "        return row['transmission']\n",
    "    \n",
    "df_train['transmission'] = df_train.apply(filltr, axis=1)      "
   ]
  },
  {
   "cell_type": "code",
   "execution_count": 11,
   "id": "3298df6b",
   "metadata": {},
   "outputs": [],
   "source": [
    "t1 = df_test.groupby(['make','model','year'])['transmission'].value_counts(1)\n",
    "\n",
    "def fillt1(row):\n",
    "    if pd.isnull(row['transmission']):\n",
    "        make = row['make']\n",
    "        model = row['model']\n",
    "        year = row['year']\n",
    "        if (make, model, year) in t1.index:\n",
    "            prob = t1.loc[(make, model, year)]\n",
    "            probtr = prob.index[0]\n",
    "            return probtr\n",
    "        else:\n",
    "            return np.nan\n",
    "    else:\n",
    "        return row['transmission']\n",
    "    \n",
    "df_test['transmission'] = df_test.apply(filltr, axis=1)"
   ]
  },
  {
   "cell_type": "code",
   "execution_count": 12,
   "id": "8d040fda",
   "metadata": {
    "scrolled": true
   },
   "outputs": [],
   "source": [
    "df_train['saledate'] = df_train['saledate'].replace(to_replace ='GMT.+', value = '', regex=True)\n",
    "df_test['saledate'] = df_test['saledate'].replace(to_replace ='GMT.+', value = '', regex=True)\n",
    "\n",
    "df_train['saledate'] = df_train['saledate'].apply(pd.to_datetime)\n",
    "df_test['saledate'] = df_test['saledate'].apply(pd.to_datetime)\n",
    "\n",
    "df_train['exploit'] = (df_train['saledate'].dt.year - df_train['year'])\n",
    "df_train = df_train.drop(['saledate', 'vin'], axis=1)\n",
    "\n",
    "df_test['exploit'] = (df_test['saledate'].dt.year - df_test['year'])\n",
    "df_test = df_test.drop(['saledate', 'vin'], axis=1)\n",
    "#df_train.head()"
   ]
  },
  {
   "cell_type": "markdown",
   "id": "bc5ac179",
   "metadata": {},
   "source": [
    "Построим график машин с пробегом от 100 000 км."
   ]
  },
  {
   "cell_type": "code",
   "execution_count": 13,
   "id": "899c36bb",
   "metadata": {},
   "outputs": [
    {
     "data": {
      "image/png": "[encoded data removed]",
      "text/plain": [
       "<Figure size 640x480 with 1 Axes>"
      ]
     },
     "metadata": {},
     "output_type": "display_data"
    }
   ],
   "source": [
    "plt.title('Кол-во машин с пробегом от 100 тыс. км')\n",
    "plt.hist(df_train['odometer'], bins=5)\n",
    "plt.xlim(xmin=100000, xmax=400000)\n",
    "plt.show()"
   ]
  },
  {
   "cell_type": "markdown",
   "id": "cb89267b",
   "metadata": {},
   "source": [
    "По графику виден резкий обвал значений после 200 тыс. км, скорее всего это ошибка, ведь пробег в 250 тыс. уже считается большим. Поэтому уберем некорректные знаечния из нашей таблицы."
   ]
  },
  {
   "cell_type": "code",
   "execution_count": 14,
   "id": "5239c429",
   "metadata": {
    "scrolled": true
   },
   "outputs": [],
   "source": [
    "df_train.drop(df_train[df_train['odometer'] >= 200000].index, inplace=True)"
   ]
  },
  {
   "cell_type": "markdown",
   "id": "3e915dcc",
   "metadata": {},
   "source": [
    "Почистим колонку \"продавец\"."
   ]
  },
  {
   "cell_type": "code",
   "execution_count": 15,
   "id": "cec3ed61",
   "metadata": {},
   "outputs": [],
   "source": [
    "df_train['seller'] = df_train['seller'].replace(to_replace ='company.+|corporation|inc|auto\\s.+|consumer.+|city.+|state.+|motor.+', \n",
    "                                                value = '', regex=True)"
   ]
  },
  {
   "cell_type": "code",
   "execution_count": 16,
   "id": "34246064",
   "metadata": {},
   "outputs": [],
   "source": [
    "df_test['seller'] = df_test['seller'].replace(to_replace ='company.+|corporation|inc|auto\\s.+|consumer.+|city.+|state.+|motor.+', \n",
    "                                                value = '', regex=True)"
   ]
  },
  {
   "cell_type": "code",
   "execution_count": 17,
   "id": "80601068",
   "metadata": {},
   "outputs": [
    {
     "data": {
      "text/plain": [
       "35                 texas motor\n",
       "127                 4jg stars \n",
       "128           allied solutions\n",
       "291               storch ford \n",
       "350        franklin park loln \n",
       "                  ...         \n",
       "439939                   trra \n",
       "439954      beyer brothers gmc\n",
       "440053    autostar enterprises\n",
       "440170         kocourek nissan\n",
       "440233                 studio \n",
       "Name: seller, Length: 4042, dtype: object"
      ]
     },
     "execution_count": 17,
     "metadata": {},
     "output_type": "execute_result"
    }
   ],
   "source": [
    "df_train.groupby('seller').filter(lambda x : len(x)==1)['seller']"
   ]
  },
  {
   "cell_type": "markdown",
   "id": "c0413ed6",
   "metadata": {},
   "source": [
    "Единичных продавцов много и вручную все перебирать неудобно, поэтому оставим их в таблице. "
   ]
  },
  {
   "cell_type": "markdown",
   "id": "041318c6",
   "metadata": {},
   "source": [
    "Приведем в порядок колонку с марками автомобилей."
   ]
  },
  {
   "cell_type": "code",
   "execution_count": 18,
   "id": "13dda0e2",
   "metadata": {},
   "outputs": [],
   "source": [
    "vals = {'mercedes':'Mercedes-Benz', 'bmw':'BMW', 'vw':'Volkswagen',\n",
    "       'gmc truck':'GMC', 'ford truck':'Ford', 'mercedes-b':'Mercedes-Benz',\n",
    "       'dodge tk':'Dodge', 'mazda tk': 'Mazda'}\n",
    "\n",
    "df_train['make'] = df_train['make'].map(vals)\n",
    "df_train['make'] = df_train['make'].str.title()\n",
    "df_train['model'] = df_train['model'].str.title()"
   ]
  },
  {
   "cell_type": "code",
   "execution_count": 19,
   "id": "5c610034",
   "metadata": {},
   "outputs": [],
   "source": [
    "valst = {'mercedes':'Mercedes-Benz', 'bmw':'BMW', 'vw':'Volkswagen',\n",
    "       'chev truck':'Chevrolet', 'ford tk':'Ford',\n",
    "       'hundai tk':'Hundai'}\n",
    "\n",
    "df_test['make'] = df_test['make'].map(valst)\n",
    "df_test['make'] = df_test['make'].str.title()\n",
    "df_test['model'] = df_test['model'].str.title()"
   ]
  },
  {
   "cell_type": "code",
   "execution_count": 20,
   "id": "0d471d38",
   "metadata": {},
   "outputs": [
    {
     "data": {
      "image/png": "[encoded data removed]",
      "text/plain": [
       "<Figure size 640x480 with 1 Axes>"
      ]
     },
     "metadata": {},
     "output_type": "display_data"
    }
   ],
   "source": [
    "plt.title('Состояние автомобиля')\n",
    "plt.hist(df_train['condition'])\n",
    "plt.show()"
   ]
  },
  {
   "cell_type": "markdown",
   "id": "53598cd9",
   "metadata": {},
   "source": [
    "Показатели оценки состояния автомобиля довольно симметричны с небольшим выбросом в единичку, поэтому заменим пропуски модой."
   ]
  },
  {
   "cell_type": "code",
   "execution_count": 21,
   "id": "854b0d5c",
   "metadata": {},
   "outputs": [],
   "source": [
    "for column in df_train.columns:\n",
    "    if df_train[column].dtype == 'object':\n",
    "        df_train[column] = df_train[column].fillna('NA')\n",
    "        df_train[column] = df_train[column].astype('category')\n",
    "\n",
    "df_train['condition'] = df_train['condition'].fillna(df_train['condition'].mode())"
   ]
  },
  {
   "cell_type": "code",
   "execution_count": 22,
   "id": "887aafe7",
   "metadata": {},
   "outputs": [],
   "source": [
    "for column in df_test.columns:\n",
    "    if df_test[column].dtype == 'object':\n",
    "        df_test[column] = df_test[column].fillna('NA')\n",
    "        df_test[column] = df_test[column].astype('category')\n",
    "\n",
    "df_test['condition'] = df_test['condition'].fillna(df_test['condition'].mode())"
   ]
  },
  {
   "cell_type": "code",
   "execution_count": 23,
   "id": "9a6cdf0d",
   "metadata": {},
   "outputs": [
    {
     "data": {
      "text/html": [
       "<div>\n",
       "<style scoped>\n",
       "    .dataframe tbody tr th:only-of-type {\n",
       "        vertical-align: middle;\n",
       "    }\n",
       "\n",
       "    .dataframe tbody tr th {\n",
       "        vertical-align: top;\n",
       "    }\n",
       "\n",
       "    .dataframe thead th {\n",
       "        text-align: right;\n",
       "    }\n",
       "</style>\n",
       "<table border=\"1\" class=\"dataframe\">\n",
       "  <thead>\n",
       "    <tr style=\"text-align: right;\">\n",
       "      <th></th>\n",
       "      <th>year</th>\n",
       "      <th>make</th>\n",
       "      <th>model</th>\n",
       "      <th>trim</th>\n",
       "      <th>body</th>\n",
       "      <th>transmission</th>\n",
       "      <th>state</th>\n",
       "      <th>condition</th>\n",
       "      <th>odometer</th>\n",
       "      <th>color</th>\n",
       "      <th>interior</th>\n",
       "      <th>seller</th>\n",
       "      <th>sellingprice</th>\n",
       "      <th>exploit</th>\n",
       "    </tr>\n",
       "  </thead>\n",
       "  <tbody>\n",
       "    <tr>\n",
       "      <th>0</th>\n",
       "      <td>2011</td>\n",
       "      <td>NA</td>\n",
       "      <td>Edge</td>\n",
       "      <td>SEL</td>\n",
       "      <td>suv</td>\n",
       "      <td>automatic</td>\n",
       "      <td>md</td>\n",
       "      <td>4.2</td>\n",
       "      <td>111041.0</td>\n",
       "      <td>black</td>\n",
       "      <td>black</td>\n",
       "      <td>santander consumer</td>\n",
       "      <td>12500</td>\n",
       "      <td>4</td>\n",
       "    </tr>\n",
       "    <tr>\n",
       "      <th>1</th>\n",
       "      <td>2014</td>\n",
       "      <td>NA</td>\n",
       "      <td>Fusion</td>\n",
       "      <td>SE</td>\n",
       "      <td>Sedan</td>\n",
       "      <td>automatic</td>\n",
       "      <td>mo</td>\n",
       "      <td>3.5</td>\n",
       "      <td>31034.0</td>\n",
       "      <td>black</td>\n",
       "      <td>black</td>\n",
       "      <td>ars/avis budget group</td>\n",
       "      <td>14500</td>\n",
       "      <td>1</td>\n",
       "    </tr>\n",
       "    <tr>\n",
       "      <th>2</th>\n",
       "      <td>2012</td>\n",
       "      <td>NA</td>\n",
       "      <td>Sentra</td>\n",
       "      <td>2.0 SL</td>\n",
       "      <td>sedan</td>\n",
       "      <td>automatic</td>\n",
       "      <td>nj</td>\n",
       "      <td>2.2</td>\n",
       "      <td>35619.0</td>\n",
       "      <td>black</td>\n",
       "      <td>black</td>\n",
       "      <td>nissan-infiniti lt</td>\n",
       "      <td>9100</td>\n",
       "      <td>3</td>\n",
       "    </tr>\n",
       "    <tr>\n",
       "      <th>3</th>\n",
       "      <td>2003</td>\n",
       "      <td>NA</td>\n",
       "      <td>H2</td>\n",
       "      <td>Base</td>\n",
       "      <td>suv</td>\n",
       "      <td>automatic</td>\n",
       "      <td>tx</td>\n",
       "      <td>2.8</td>\n",
       "      <td>131301.0</td>\n",
       "      <td>gold</td>\n",
       "      <td>beige</td>\n",
       "      <td>wichita falls ford lin</td>\n",
       "      <td>13300</td>\n",
       "      <td>12</td>\n",
       "    </tr>\n",
       "    <tr>\n",
       "      <th>4</th>\n",
       "      <td>2007</td>\n",
       "      <td>NA</td>\n",
       "      <td>Fusion</td>\n",
       "      <td>SEL</td>\n",
       "      <td>Sedan</td>\n",
       "      <td>automatic</td>\n",
       "      <td>md</td>\n",
       "      <td>2.0</td>\n",
       "      <td>127709.0</td>\n",
       "      <td>black</td>\n",
       "      <td>black</td>\n",
       "      <td>purple heart</td>\n",
       "      <td>1300</td>\n",
       "      <td>8</td>\n",
       "    </tr>\n",
       "  </tbody>\n",
       "</table>\n",
       "</div>"
      ],
      "text/plain": [
       "   year make   model    trim   body transmission state  condition  odometer  \\\n",
       "0  2011   NA    Edge     SEL    suv    automatic    md        4.2  111041.0   \n",
       "1  2014   NA  Fusion      SE  Sedan    automatic    mo        3.5   31034.0   \n",
       "2  2012   NA  Sentra  2.0 SL  sedan    automatic    nj        2.2   35619.0   \n",
       "3  2003   NA      H2    Base    suv    automatic    tx        2.8  131301.0   \n",
       "4  2007   NA  Fusion     SEL  Sedan    automatic    md        2.0  127709.0   \n",
       "\n",
       "   color interior                   seller  sellingprice  exploit  \n",
       "0  black    black       santander consumer         12500        4  \n",
       "1  black    black    ars/avis budget group         14500        1  \n",
       "2  black    black       nissan-infiniti lt          9100        3  \n",
       "3   gold    beige  wichita falls ford lin          13300       12  \n",
       "4  black    black             purple heart          1300        8  "
      ]
     },
     "execution_count": 23,
     "metadata": {},
     "output_type": "execute_result"
    }
   ],
   "source": [
    "df_train.head()"
   ]
  },
  {
   "cell_type": "code",
   "execution_count": 24,
   "id": "c8416a46",
   "metadata": {},
   "outputs": [
    {
     "data": {
      "text/html": [
       "<div>\n",
       "<style scoped>\n",
       "    .dataframe tbody tr th:only-of-type {\n",
       "        vertical-align: middle;\n",
       "    }\n",
       "\n",
       "    .dataframe tbody tr th {\n",
       "        vertical-align: top;\n",
       "    }\n",
       "\n",
       "    .dataframe thead th {\n",
       "        text-align: right;\n",
       "    }\n",
       "</style>\n",
       "<table border=\"1\" class=\"dataframe\">\n",
       "  <thead>\n",
       "    <tr style=\"text-align: right;\">\n",
       "      <th></th>\n",
       "      <th>year</th>\n",
       "      <th>make</th>\n",
       "      <th>model</th>\n",
       "      <th>trim</th>\n",
       "      <th>body</th>\n",
       "      <th>transmission</th>\n",
       "      <th>state</th>\n",
       "      <th>condition</th>\n",
       "      <th>odometer</th>\n",
       "      <th>color</th>\n",
       "      <th>interior</th>\n",
       "      <th>seller</th>\n",
       "      <th>exploit</th>\n",
       "    </tr>\n",
       "  </thead>\n",
       "  <tbody>\n",
       "    <tr>\n",
       "      <th>0</th>\n",
       "      <td>2005</td>\n",
       "      <td>NA</td>\n",
       "      <td>Cts</td>\n",
       "      <td>Base</td>\n",
       "      <td>Sedan</td>\n",
       "      <td>automatic</td>\n",
       "      <td>ca</td>\n",
       "      <td>2.7</td>\n",
       "      <td>116970.0</td>\n",
       "      <td>silver</td>\n",
       "      <td>black</td>\n",
       "      <td>lexus of stevens creek</td>\n",
       "      <td>10</td>\n",
       "    </tr>\n",
       "    <tr>\n",
       "      <th>1</th>\n",
       "      <td>2014</td>\n",
       "      <td>NA</td>\n",
       "      <td>Savana Cargo</td>\n",
       "      <td>2500</td>\n",
       "      <td>Van</td>\n",
       "      <td>automatic</td>\n",
       "      <td>pa</td>\n",
       "      <td>4.4</td>\n",
       "      <td>6286.0</td>\n",
       "      <td>white</td>\n",
       "      <td>gray</td>\n",
       "      <td>u-haul</td>\n",
       "      <td>1</td>\n",
       "    </tr>\n",
       "    <tr>\n",
       "      <th>2</th>\n",
       "      <td>2013</td>\n",
       "      <td>NA</td>\n",
       "      <td>Murano</td>\n",
       "      <td>S</td>\n",
       "      <td>SUV</td>\n",
       "      <td>automatic</td>\n",
       "      <td>oh</td>\n",
       "      <td>4.6</td>\n",
       "      <td>11831.0</td>\n",
       "      <td>gray</td>\n",
       "      <td>black</td>\n",
       "      <td>nissan-infiniti lt</td>\n",
       "      <td>2</td>\n",
       "    </tr>\n",
       "    <tr>\n",
       "      <th>3</th>\n",
       "      <td>2013</td>\n",
       "      <td>NA</td>\n",
       "      <td>Impala</td>\n",
       "      <td>LS Fleet</td>\n",
       "      <td>Sedan</td>\n",
       "      <td>automatic</td>\n",
       "      <td>fl</td>\n",
       "      <td>2.3</td>\n",
       "      <td>57105.0</td>\n",
       "      <td>silver</td>\n",
       "      <td>black</td>\n",
       "      <td>onemain rem/</td>\n",
       "      <td>2</td>\n",
       "    </tr>\n",
       "    <tr>\n",
       "      <th>4</th>\n",
       "      <td>2013</td>\n",
       "      <td>NA</td>\n",
       "      <td>Titan</td>\n",
       "      <td>SV</td>\n",
       "      <td>Crew Cab</td>\n",
       "      <td>automatic</td>\n",
       "      <td>tn</td>\n",
       "      <td>2.9</td>\n",
       "      <td>31083.0</td>\n",
       "      <td>black</td>\n",
       "      <td>black</td>\n",
       "      <td>nissan north america .</td>\n",
       "      <td>2</td>\n",
       "    </tr>\n",
       "  </tbody>\n",
       "</table>\n",
       "</div>"
      ],
      "text/plain": [
       "   year make         model      trim      body transmission state  condition  \\\n",
       "0  2005   NA           Cts      Base     Sedan    automatic    ca        2.7   \n",
       "1  2014   NA  Savana Cargo      2500       Van    automatic    pa        4.4   \n",
       "2  2013   NA        Murano         S       SUV    automatic    oh        4.6   \n",
       "3  2013   NA        Impala  LS Fleet     Sedan    automatic    fl        2.3   \n",
       "4  2013   NA         Titan        SV  Crew Cab    automatic    tn        2.9   \n",
       "\n",
       "   odometer   color interior                  seller  exploit  \n",
       "0  116970.0  silver    black  lexus of stevens creek       10  \n",
       "1    6286.0   white     gray                  u-haul        1  \n",
       "2   11831.0    gray    black      nissan-infiniti lt        2  \n",
       "3   57105.0  silver    black            onemain rem/        2  \n",
       "4   31083.0   black    black  nissan north america .        2  "
      ]
     },
     "execution_count": 24,
     "metadata": {},
     "output_type": "execute_result"
    }
   ],
   "source": [
    "df_test.head()"
   ]
  },
  {
   "cell_type": "markdown",
   "id": "b4d2da9c",
   "metadata": {},
   "source": [
    "## Models"
   ]
  },
  {
   "cell_type": "code",
   "execution_count": 25,
   "id": "005c2132",
   "metadata": {},
   "outputs": [],
   "source": [
    "features_train = df_train.drop('sellingprice', axis=1)\n",
    "target_train = df_train['sellingprice']"
   ]
  },
  {
   "cell_type": "code",
   "execution_count": 26,
   "id": "f2ed0e2f",
   "metadata": {},
   "outputs": [],
   "source": [
    "Xe = features_train.copy()\n",
    "categorical_cols= ['make','model','trim','body','transmission','state','color', 'interior','seller']\n",
    "for i in categorical_cols:\n",
    "    le=LabelEncoder()\n",
    "    arr=np.concatenate([Xe[i]], axis=0).astype(str)\n",
    "    le.fit(arr)\n",
    "    Xe[i]=le.transform(Xe[i].astype(str))"
   ]
  },
  {
   "cell_type": "code",
   "execution_count": 27,
   "id": "4ec6ae78",
   "metadata": {},
   "outputs": [
    {
     "name": "stdout",
     "output_type": "stream",
     "text": [
      "Лучшее значение MAPE: 17.731726042359316\n",
      "Лучшие гиперпараметры {'num_leaves': 18, 'n_estimators': 850, 'max_depth': 8}\n",
      "CPU times: total: 29min 19s\n",
      "Wall time: 4min 2s\n"
     ]
    }
   ],
   "source": [
    "%%time\n",
    "\n",
    "param_lgbm = {'num_leaves' : range(10, 20), \n",
    "              'max_depth' : range(1, 10),\n",
    "              'n_estimators' : range(50, 1200, 100)}\n",
    "\n",
    "model_boost = lgb.LGBMRegressor(random_state=RANDOM_STATE)\n",
    "search_boost = RandomizedSearchCV(model_boost, param_lgbm,\n",
    "                        cv=5, scoring='neg_mean_absolute_percentage_error', error_score='raise')\n",
    "search_boost.fit(features_train, target_train)\n",
    "model_boost_final = search_boost.best_estimator_\n",
    "mape_lgbm = abs(search_boost.best_score_) * 100\n",
    "print('Лучшее значение MAPE:', mape_lgbm)\n",
    "print('Лучшие гиперпараметры', search_boost.best_params_)"
   ]
  },
  {
   "cell_type": "code",
   "execution_count": 28,
   "id": "6dd7d1f6",
   "metadata": {},
   "outputs": [
    {
     "name": "stdout",
     "output_type": "stream",
     "text": [
      "Лучшее значение MAPE: 26.91599926373629\n",
      "Лучшие гиперпараметры {'learning_rate': 1.0, 'iterations': 400, 'depth': 8}\n",
      "CPU times: total: 11min 5s\n",
      "Wall time: 7min 45s\n"
     ]
    }
   ],
   "source": [
    "%%time\n",
    "\n",
    "param_cat = {'depth' : range(6, 10),\n",
    "              'iterations' : range(50, 550, 50),\n",
    "            'learning_rate' : [0.1, 0.01, 1.0]}\n",
    "\n",
    "model_cat = CatBoostRegressor(random_state=RANDOM_STATE, verbose=0)\n",
    "search_cat = RandomizedSearchCV(model_cat, param_cat,\n",
    "                        cv=5, scoring='neg_mean_absolute_percentage_error', error_score='raise')\n",
    "search_cat.fit(Xe, target_train)\n",
    "model_cat_final = search_cat.best_estimator_\n",
    "mape_cat = abs(search_cat.best_score_) * 100\n",
    "print('Лучшее значение MAPE:', mape_cat)\n",
    "print('Лучшие гиперпараметры', search_cat.best_params_)"
   ]
  },
  {
   "cell_type": "code",
   "execution_count": 35,
   "id": "7db69aff",
   "metadata": {},
   "outputs": [
    {
     "data": {
      "text/html": [
       "<div>\n",
       "<style scoped>\n",
       "    .dataframe tbody tr th:only-of-type {\n",
       "        vertical-align: middle;\n",
       "    }\n",
       "\n",
       "    .dataframe tbody tr th {\n",
       "        vertical-align: top;\n",
       "    }\n",
       "\n",
       "    .dataframe thead th {\n",
       "        text-align: right;\n",
       "    }\n",
       "</style>\n",
       "<table border=\"1\" class=\"dataframe\">\n",
       "  <thead>\n",
       "    <tr style=\"text-align: right;\">\n",
       "      <th></th>\n",
       "      <th>MAPE</th>\n",
       "    </tr>\n",
       "  </thead>\n",
       "  <tbody>\n",
       "    <tr>\n",
       "      <th>LGBM</th>\n",
       "      <td>17.731726</td>\n",
       "    </tr>\n",
       "    <tr>\n",
       "      <th>Cat</th>\n",
       "      <td>26.915999</td>\n",
       "    </tr>\n",
       "  </tbody>\n",
       "</table>\n",
       "</div>"
      ],
      "text/plain": [
       "           MAPE\n",
       "LGBM  17.731726\n",
       "Cat   26.915999"
      ]
     },
     "execution_count": 35,
     "metadata": {},
     "output_type": "execute_result"
    }
   ],
   "source": [
    "summary = pd.DataFrame(\n",
    "    {\n",
    "        'MAPE' : [mape_lgbm, mape_cat]\n",
    "    },\n",
    "    index = ['LGBM', 'Cat']\n",
    ").sort_values(by='MAPE', ascending=True)\n",
    "summary"
   ]
  },
  {
   "cell_type": "code",
   "execution_count": 36,
   "id": "65dcf604",
   "metadata": {},
   "outputs": [
    {
     "data": {
      "image/png": "[encoded data removed]",
      "text/plain": [
       "<Figure size 640x480 with 1 Axes>"
      ]
     },
     "metadata": {},
     "output_type": "display_data"
    }
   ],
   "source": [
    "(pd.Series(model_boost_final.feature_importances_, index=features_train.columns)\n",
    "   .nlargest(8)\n",
    "   .plot(kind='barh', color=['darkred', 'peru', 'lemonchiffon', 'olivedrab',\n",
    "                             'limegreen', 'teal', 'orchid', 'navy']))\n",
    "plt.show()"
   ]
  },
  {
   "cell_type": "code",
   "execution_count": 37,
   "id": "082bebfe",
   "metadata": {},
   "outputs": [
    {
     "data": {
      "image/png": "[encoded data removed]",
      "text/plain": [
       "<Figure size 640x480 with 1 Axes>"
      ]
     },
     "metadata": {},
     "output_type": "display_data"
    }
   ],
   "source": [
    "(pd.Series(model_cat_final.feature_importances_, index=features_train.columns)\n",
    "   .nlargest(10)\n",
    "   .plot(kind='barh', color=['darkred', 'peru', 'lemonchiffon', 'olivedrab',\n",
    "                             'limegreen', 'teal', 'orchid', 'navy']))\n",
    "plt.show()"
   ]
  },
  {
   "cell_type": "markdown",
   "id": "dde7d2b7",
   "metadata": {},
   "source": [
    "## Testing"
   ]
  },
  {
   "cell_type": "markdown",
   "id": "f9a758cf",
   "metadata": {},
   "source": [
    "Лучше всех справилась LGBM, проверим нашу модель на тестовой выборке и запишем результаты в csv."
   ]
  },
  {
   "cell_type": "code",
   "execution_count": 38,
   "id": "2bf98430",
   "metadata": {},
   "outputs": [],
   "source": [
    "lgbm_predictions = model_boost_final.predict(df_test)"
   ]
  },
  {
   "cell_type": "markdown",
   "id": "bc575ec9",
   "metadata": {},
   "source": [
    "## Output"
   ]
  },
  {
   "cell_type": "code",
   "execution_count": 39,
   "id": "4da22b05",
   "metadata": {},
   "outputs": [],
   "source": [
    "test_copy = pd.read_csv('test.csv')\n",
    "output = pd.DataFrame(\n",
    "    {'vin':test_copy.vin.values,'sellingprice':lgbm_predictions}\n",
    ").to_csv('submission.csv', index=False)"
   ]
  },
  {
   "cell_type": "code",
   "execution_count": null,
   "id": "f956db76",
   "metadata": {},
   "outputs": [],
   "source": []
  }
 ],
 "metadata": {
  "kernelspec": {
   "display_name": "Python 3 (ipykernel)",
   "language": "python",
   "name": "python3"
  },
  "language_info": {
   "codemirror_mode": {
    "name": "ipython",
    "version": 3
   },
   "file_extension": ".py",
   "mimetype": "text/x-python",
   "name": "python",
   "nbconvert_exporter": "python",
   "pygments_lexer": "ipython3",
   "version": "3.9.17"
  }
 },
 "nbformat": 4,
 "nbformat_minor": 5
}
