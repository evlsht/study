{
 "cells": [
  {
   "cell_type": "markdown",
   "metadata": {
    "toc": true
   },
   "source": [
    "<h1>Содержание<span class=\"tocSkip\"></span></h1>\n",
    "<div class=\"toc\"><ul class=\"toc-item\"><li><span><a href=\"#Подготовка-данных\" data-toc-modified-id=\"Подготовка-данных-1\"><span class=\"toc-item-num\">1&nbsp;&nbsp;</span>Подготовка данных</a></span></li><li><span><a href=\"#Исследование-задачи\" data-toc-modified-id=\"Исследование-задачи-2\"><span class=\"toc-item-num\">2&nbsp;&nbsp;</span>Исследование задачи</a></span></li><li><span><a href=\"#Без-учета-дисбаланса\" data-toc-modified-id=\"Без-учета-дисбаланса-3\"><span class=\"toc-item-num\">3&nbsp;&nbsp;</span>Без учета дисбаланса</a></span></li><li><span><a href=\"#Борьба-с-дисбалансом\" data-toc-modified-id=\"Борьба-с-дисбалансом-4\"><span class=\"toc-item-num\">4&nbsp;&nbsp;</span>Борьба с дисбалансом</a></span><ul class=\"toc-item\"><li><span><a href=\"#Балансировка-весов-классов\" data-toc-modified-id=\"Балансировка-весов-классов-4.1\"><span class=\"toc-item-num\">4.1&nbsp;&nbsp;</span>Балансировка весов классов</a></span></li><li><span><a href=\"#Увеличение-выборки\" data-toc-modified-id=\"Увеличение-выборки-4.2\"><span class=\"toc-item-num\">4.2&nbsp;&nbsp;</span>Увеличение выборки</a></span></li></ul></li><li><span><a href=\"#Тестирование-модели\" data-toc-modified-id=\"Тестирование-модели-5\"><span class=\"toc-item-num\">5&nbsp;&nbsp;</span>Тестирование модели</a></span></li><li><span><a href=\"#Вывод\" data-toc-modified-id=\"Вывод-6\"><span class=\"toc-item-num\">6&nbsp;&nbsp;</span>Вывод</a></span></li></ul></div>"
   ]
  },
  {
   "cell_type": "markdown",
   "metadata": {},
   "source": [
    "# Отток клиентов"
   ]
  },
  {
   "cell_type": "markdown",
   "metadata": {},
   "source": [
    "Из «Бета-Банка» стали уходить клиенты. Каждый месяц. Немного, но заметно. Банковские маркетологи посчитали: сохранять текущих клиентов дешевле, чем привлекать новых.\n",
    "\n",
    "Нужно спрогнозировать, уйдёт клиент из банка в ближайшее время или нет. Нам предоставлены исторические данные о поведении клиентов и расторжении договоров с банком. \n",
    "\n",
    "Построим модель с предельно большим значением *F1*-меры и доводем метрику до значения 0.59. Проверим *F1*-меру на тестовой выборке.\n",
    "\n",
    "Дополнительно измерим *AUC-ROC*, сравнивая её значение с *F1*-мерой.\n",
    "\n",
    "Источник данных: [https://www.kaggle.com/barelydedicated/bank-customer-churn-modeling](https://www.kaggle.com/barelydedicated/bank-customer-churn-modeling)"
   ]
  },
  {
   "cell_type": "markdown",
   "metadata": {},
   "source": [
    "## Подготовка данных"
   ]
  },
  {
   "cell_type": "code",
   "execution_count": 1,
   "metadata": {},
   "outputs": [],
   "source": [
    "import pandas as pd\n",
    "import matplotlib.pyplot as plt\n",
    "from sklearn.model_selection import train_test_split, RandomizedSearchCV\n",
    "from sklearn.preprocessing import StandardScaler\n",
    "pd.options.mode.chained_assignment = None\n",
    "from sklearn.tree import DecisionTreeClassifier\n",
    "from sklearn.ensemble import RandomForestClassifier\n",
    "from sklearn.linear_model import LogisticRegression\n",
    "from sklearn.metrics import f1_score, roc_auc_score, roc_curve\n",
    "import lightgbm as lgb\n",
    "from sklearn.utils import shuffle\n",
    "%matplotlib inline"
   ]
  },
  {
   "cell_type": "code",
   "execution_count": 2,
   "metadata": {},
   "outputs": [],
   "source": [
    "try:\n",
    "    data = pd.read_csv('/datasets/Churn.csv')\n",
    "except:\n",
    "    data = pd.read_csv('Churn.csv')"
   ]
  },
  {
   "cell_type": "code",
   "execution_count": 3,
   "metadata": {},
   "outputs": [
    {
     "name": "stdout",
     "output_type": "stream",
     "text": [
      "<class 'pandas.core.frame.DataFrame'>\n",
      "RangeIndex: 10000 entries, 0 to 9999\n",
      "Data columns (total 14 columns):\n",
      " #   Column           Non-Null Count  Dtype  \n",
      "---  ------           --------------  -----  \n",
      " 0   RowNumber        10000 non-null  int64  \n",
      " 1   CustomerId       10000 non-null  int64  \n",
      " 2   Surname          10000 non-null  object \n",
      " 3   CreditScore      10000 non-null  int64  \n",
      " 4   Geography        10000 non-null  object \n",
      " 5   Gender           10000 non-null  object \n",
      " 6   Age              10000 non-null  int64  \n",
      " 7   Tenure           9091 non-null   float64\n",
      " 8   Balance          10000 non-null  float64\n",
      " 9   NumOfProducts    10000 non-null  int64  \n",
      " 10  HasCrCard        10000 non-null  int64  \n",
      " 11  IsActiveMember   10000 non-null  int64  \n",
      " 12  EstimatedSalary  10000 non-null  float64\n",
      " 13  Exited           10000 non-null  int64  \n",
      "dtypes: float64(3), int64(8), object(3)\n",
      "memory usage: 1.1+ MB\n"
     ]
    }
   ],
   "source": [
    "data.info()"
   ]
  },
  {
   "cell_type": "code",
   "execution_count": 4,
   "metadata": {},
   "outputs": [
    {
     "data": {
      "text/html": [
       "<div>\n",
       "<style scoped>\n",
       "    .dataframe tbody tr th:only-of-type {\n",
       "        vertical-align: middle;\n",
       "    }\n",
       "\n",
       "    .dataframe tbody tr th {\n",
       "        vertical-align: top;\n",
       "    }\n",
       "\n",
       "    .dataframe thead th {\n",
       "        text-align: right;\n",
       "    }\n",
       "</style>\n",
       "<table border=\"1\" class=\"dataframe\">\n",
       "  <thead>\n",
       "    <tr style=\"text-align: right;\">\n",
       "      <th></th>\n",
       "      <th>RowNumber</th>\n",
       "      <th>CustomerId</th>\n",
       "      <th>Surname</th>\n",
       "      <th>CreditScore</th>\n",
       "      <th>Geography</th>\n",
       "      <th>Gender</th>\n",
       "      <th>Age</th>\n",
       "      <th>Tenure</th>\n",
       "      <th>Balance</th>\n",
       "      <th>NumOfProducts</th>\n",
       "      <th>HasCrCard</th>\n",
       "      <th>IsActiveMember</th>\n",
       "      <th>EstimatedSalary</th>\n",
       "      <th>Exited</th>\n",
       "    </tr>\n",
       "  </thead>\n",
       "  <tbody>\n",
       "    <tr>\n",
       "      <th>0</th>\n",
       "      <td>1</td>\n",
       "      <td>15634602</td>\n",
       "      <td>Hargrave</td>\n",
       "      <td>619</td>\n",
       "      <td>France</td>\n",
       "      <td>Female</td>\n",
       "      <td>42</td>\n",
       "      <td>2.0</td>\n",
       "      <td>0.00</td>\n",
       "      <td>1</td>\n",
       "      <td>1</td>\n",
       "      <td>1</td>\n",
       "      <td>101348.88</td>\n",
       "      <td>1</td>\n",
       "    </tr>\n",
       "    <tr>\n",
       "      <th>1</th>\n",
       "      <td>2</td>\n",
       "      <td>15647311</td>\n",
       "      <td>Hill</td>\n",
       "      <td>608</td>\n",
       "      <td>Spain</td>\n",
       "      <td>Female</td>\n",
       "      <td>41</td>\n",
       "      <td>1.0</td>\n",
       "      <td>83807.86</td>\n",
       "      <td>1</td>\n",
       "      <td>0</td>\n",
       "      <td>1</td>\n",
       "      <td>112542.58</td>\n",
       "      <td>0</td>\n",
       "    </tr>\n",
       "    <tr>\n",
       "      <th>2</th>\n",
       "      <td>3</td>\n",
       "      <td>15619304</td>\n",
       "      <td>Onio</td>\n",
       "      <td>502</td>\n",
       "      <td>France</td>\n",
       "      <td>Female</td>\n",
       "      <td>42</td>\n",
       "      <td>8.0</td>\n",
       "      <td>159660.80</td>\n",
       "      <td>3</td>\n",
       "      <td>1</td>\n",
       "      <td>0</td>\n",
       "      <td>113931.57</td>\n",
       "      <td>1</td>\n",
       "    </tr>\n",
       "    <tr>\n",
       "      <th>3</th>\n",
       "      <td>4</td>\n",
       "      <td>15701354</td>\n",
       "      <td>Boni</td>\n",
       "      <td>699</td>\n",
       "      <td>France</td>\n",
       "      <td>Female</td>\n",
       "      <td>39</td>\n",
       "      <td>1.0</td>\n",
       "      <td>0.00</td>\n",
       "      <td>2</td>\n",
       "      <td>0</td>\n",
       "      <td>0</td>\n",
       "      <td>93826.63</td>\n",
       "      <td>0</td>\n",
       "    </tr>\n",
       "    <tr>\n",
       "      <th>4</th>\n",
       "      <td>5</td>\n",
       "      <td>15737888</td>\n",
       "      <td>Mitchell</td>\n",
       "      <td>850</td>\n",
       "      <td>Spain</td>\n",
       "      <td>Female</td>\n",
       "      <td>43</td>\n",
       "      <td>2.0</td>\n",
       "      <td>125510.82</td>\n",
       "      <td>1</td>\n",
       "      <td>1</td>\n",
       "      <td>1</td>\n",
       "      <td>79084.10</td>\n",
       "      <td>0</td>\n",
       "    </tr>\n",
       "  </tbody>\n",
       "</table>\n",
       "</div>"
      ],
      "text/plain": [
       "   RowNumber  CustomerId   Surname  CreditScore Geography  Gender  Age  \\\n",
       "0          1    15634602  Hargrave          619    France  Female   42   \n",
       "1          2    15647311      Hill          608     Spain  Female   41   \n",
       "2          3    15619304      Onio          502    France  Female   42   \n",
       "3          4    15701354      Boni          699    France  Female   39   \n",
       "4          5    15737888  Mitchell          850     Spain  Female   43   \n",
       "\n",
       "   Tenure    Balance  NumOfProducts  HasCrCard  IsActiveMember  \\\n",
       "0     2.0       0.00              1          1               1   \n",
       "1     1.0   83807.86              1          0               1   \n",
       "2     8.0  159660.80              3          1               0   \n",
       "3     1.0       0.00              2          0               0   \n",
       "4     2.0  125510.82              1          1               1   \n",
       "\n",
       "   EstimatedSalary  Exited  \n",
       "0        101348.88       1  \n",
       "1        112542.58       0  \n",
       "2        113931.57       1  \n",
       "3         93826.63       0  \n",
       "4         79084.10       0  "
      ]
     },
     "execution_count": 4,
     "metadata": {},
     "output_type": "execute_result"
    }
   ],
   "source": [
    "data.head()"
   ]
  },
  {
   "cell_type": "code",
   "execution_count": 5,
   "metadata": {},
   "outputs": [
    {
     "data": {
      "text/html": [
       "<style type=\"text/css\">\n",
       "#T_4d4bc_row0_col0, #T_4d4bc_row1_col0, #T_4d4bc_row2_col0, #T_4d4bc_row3_col0, #T_4d4bc_row4_col0, #T_4d4bc_row5_col0, #T_4d4bc_row6_col0, #T_4d4bc_row8_col0, #T_4d4bc_row9_col0, #T_4d4bc_row10_col0, #T_4d4bc_row11_col0, #T_4d4bc_row12_col0, #T_4d4bc_row13_col0 {\n",
       "  background-color: #3b4cc0;\n",
       "  color: #f1f1f1;\n",
       "}\n",
       "#T_4d4bc_row7_col0 {\n",
       "  background-color: #b40426;\n",
       "  color: #f1f1f1;\n",
       "}\n",
       "</style>\n",
       "<table id=\"T_4d4bc\">\n",
       "  <thead>\n",
       "    <tr>\n",
       "      <th class=\"blank level0\" >&nbsp;</th>\n",
       "      <th id=\"T_4d4bc_level0_col0\" class=\"col_heading level0 col0\" >0</th>\n",
       "    </tr>\n",
       "  </thead>\n",
       "  <tbody>\n",
       "    <tr>\n",
       "      <th id=\"T_4d4bc_level0_row0\" class=\"row_heading level0 row0\" >RowNumber</th>\n",
       "      <td id=\"T_4d4bc_row0_col0\" class=\"data row0 col0\" >0.000000</td>\n",
       "    </tr>\n",
       "    <tr>\n",
       "      <th id=\"T_4d4bc_level0_row1\" class=\"row_heading level0 row1\" >CustomerId</th>\n",
       "      <td id=\"T_4d4bc_row1_col0\" class=\"data row1 col0\" >0.000000</td>\n",
       "    </tr>\n",
       "    <tr>\n",
       "      <th id=\"T_4d4bc_level0_row2\" class=\"row_heading level0 row2\" >Surname</th>\n",
       "      <td id=\"T_4d4bc_row2_col0\" class=\"data row2 col0\" >0.000000</td>\n",
       "    </tr>\n",
       "    <tr>\n",
       "      <th id=\"T_4d4bc_level0_row3\" class=\"row_heading level0 row3\" >CreditScore</th>\n",
       "      <td id=\"T_4d4bc_row3_col0\" class=\"data row3 col0\" >0.000000</td>\n",
       "    </tr>\n",
       "    <tr>\n",
       "      <th id=\"T_4d4bc_level0_row4\" class=\"row_heading level0 row4\" >Geography</th>\n",
       "      <td id=\"T_4d4bc_row4_col0\" class=\"data row4 col0\" >0.000000</td>\n",
       "    </tr>\n",
       "    <tr>\n",
       "      <th id=\"T_4d4bc_level0_row5\" class=\"row_heading level0 row5\" >Gender</th>\n",
       "      <td id=\"T_4d4bc_row5_col0\" class=\"data row5 col0\" >0.000000</td>\n",
       "    </tr>\n",
       "    <tr>\n",
       "      <th id=\"T_4d4bc_level0_row6\" class=\"row_heading level0 row6\" >Age</th>\n",
       "      <td id=\"T_4d4bc_row6_col0\" class=\"data row6 col0\" >0.000000</td>\n",
       "    </tr>\n",
       "    <tr>\n",
       "      <th id=\"T_4d4bc_level0_row7\" class=\"row_heading level0 row7\" >Tenure</th>\n",
       "      <td id=\"T_4d4bc_row7_col0\" class=\"data row7 col0\" >9.000000</td>\n",
       "    </tr>\n",
       "    <tr>\n",
       "      <th id=\"T_4d4bc_level0_row8\" class=\"row_heading level0 row8\" >Balance</th>\n",
       "      <td id=\"T_4d4bc_row8_col0\" class=\"data row8 col0\" >0.000000</td>\n",
       "    </tr>\n",
       "    <tr>\n",
       "      <th id=\"T_4d4bc_level0_row9\" class=\"row_heading level0 row9\" >NumOfProducts</th>\n",
       "      <td id=\"T_4d4bc_row9_col0\" class=\"data row9 col0\" >0.000000</td>\n",
       "    </tr>\n",
       "    <tr>\n",
       "      <th id=\"T_4d4bc_level0_row10\" class=\"row_heading level0 row10\" >HasCrCard</th>\n",
       "      <td id=\"T_4d4bc_row10_col0\" class=\"data row10 col0\" >0.000000</td>\n",
       "    </tr>\n",
       "    <tr>\n",
       "      <th id=\"T_4d4bc_level0_row11\" class=\"row_heading level0 row11\" >IsActiveMember</th>\n",
       "      <td id=\"T_4d4bc_row11_col0\" class=\"data row11 col0\" >0.000000</td>\n",
       "    </tr>\n",
       "    <tr>\n",
       "      <th id=\"T_4d4bc_level0_row12\" class=\"row_heading level0 row12\" >EstimatedSalary</th>\n",
       "      <td id=\"T_4d4bc_row12_col0\" class=\"data row12 col0\" >0.000000</td>\n",
       "    </tr>\n",
       "    <tr>\n",
       "      <th id=\"T_4d4bc_level0_row13\" class=\"row_heading level0 row13\" >Exited</th>\n",
       "      <td id=\"T_4d4bc_row13_col0\" class=\"data row13 col0\" >0.000000</td>\n",
       "    </tr>\n",
       "  </tbody>\n",
       "</table>\n"
      ],
      "text/plain": [
       "<pandas.io.formats.style.Styler at 0x17a64187eb0>"
      ]
     },
     "execution_count": 5,
     "metadata": {},
     "output_type": "execute_result"
    }
   ],
   "source": [
    "pd.DataFrame(round(data.isna().mean() * 100,)).style.background_gradient('coolwarm')"
   ]
  },
  {
   "cell_type": "markdown",
   "metadata": {},
   "source": [
    "Приведем названия столбцов к нижнему регистру с подчеркиванием. Заполним пропуски и посчитаем количество дубликатов."
   ]
  },
  {
   "cell_type": "code",
   "execution_count": 6,
   "metadata": {},
   "outputs": [],
   "source": [
    "data.columns = [x.lower() for x in data.columns]\n",
    "data.rename(columns={'rownumber': 'row_number', 'customerid': 'customer_id',\n",
    "                     'creditscore': 'credit_score', 'numofproducts': 'num_of_products',\n",
    "                    'hascrcard': 'has_cr_card', 'isactivemember': 'is_active_member',\n",
    "                    'estimatedsalary': 'estimated_salary'}, inplace=True)"
   ]
  },
  {
   "cell_type": "code",
   "execution_count": 7,
   "metadata": {},
   "outputs": [
    {
     "data": {
      "text/html": [
       "<div>\n",
       "<style scoped>\n",
       "    .dataframe tbody tr th:only-of-type {\n",
       "        vertical-align: middle;\n",
       "    }\n",
       "\n",
       "    .dataframe tbody tr th {\n",
       "        vertical-align: top;\n",
       "    }\n",
       "\n",
       "    .dataframe thead th {\n",
       "        text-align: right;\n",
       "    }\n",
       "</style>\n",
       "<table border=\"1\" class=\"dataframe\">\n",
       "  <thead>\n",
       "    <tr style=\"text-align: right;\">\n",
       "      <th></th>\n",
       "      <th>row_number</th>\n",
       "      <th>customer_id</th>\n",
       "      <th>surname</th>\n",
       "      <th>credit_score</th>\n",
       "      <th>geography</th>\n",
       "      <th>gender</th>\n",
       "      <th>age</th>\n",
       "      <th>tenure</th>\n",
       "      <th>balance</th>\n",
       "      <th>num_of_products</th>\n",
       "      <th>has_cr_card</th>\n",
       "      <th>is_active_member</th>\n",
       "      <th>estimated_salary</th>\n",
       "      <th>exited</th>\n",
       "    </tr>\n",
       "  </thead>\n",
       "  <tbody>\n",
       "    <tr>\n",
       "      <th>0</th>\n",
       "      <td>1</td>\n",
       "      <td>15634602</td>\n",
       "      <td>Hargrave</td>\n",
       "      <td>619</td>\n",
       "      <td>France</td>\n",
       "      <td>Female</td>\n",
       "      <td>42</td>\n",
       "      <td>2.0</td>\n",
       "      <td>0.00</td>\n",
       "      <td>1</td>\n",
       "      <td>1</td>\n",
       "      <td>1</td>\n",
       "      <td>101348.88</td>\n",
       "      <td>1</td>\n",
       "    </tr>\n",
       "    <tr>\n",
       "      <th>1</th>\n",
       "      <td>2</td>\n",
       "      <td>15647311</td>\n",
       "      <td>Hill</td>\n",
       "      <td>608</td>\n",
       "      <td>Spain</td>\n",
       "      <td>Female</td>\n",
       "      <td>41</td>\n",
       "      <td>1.0</td>\n",
       "      <td>83807.86</td>\n",
       "      <td>1</td>\n",
       "      <td>0</td>\n",
       "      <td>1</td>\n",
       "      <td>112542.58</td>\n",
       "      <td>0</td>\n",
       "    </tr>\n",
       "    <tr>\n",
       "      <th>2</th>\n",
       "      <td>3</td>\n",
       "      <td>15619304</td>\n",
       "      <td>Onio</td>\n",
       "      <td>502</td>\n",
       "      <td>France</td>\n",
       "      <td>Female</td>\n",
       "      <td>42</td>\n",
       "      <td>8.0</td>\n",
       "      <td>159660.80</td>\n",
       "      <td>3</td>\n",
       "      <td>1</td>\n",
       "      <td>0</td>\n",
       "      <td>113931.57</td>\n",
       "      <td>1</td>\n",
       "    </tr>\n",
       "    <tr>\n",
       "      <th>3</th>\n",
       "      <td>4</td>\n",
       "      <td>15701354</td>\n",
       "      <td>Boni</td>\n",
       "      <td>699</td>\n",
       "      <td>France</td>\n",
       "      <td>Female</td>\n",
       "      <td>39</td>\n",
       "      <td>1.0</td>\n",
       "      <td>0.00</td>\n",
       "      <td>2</td>\n",
       "      <td>0</td>\n",
       "      <td>0</td>\n",
       "      <td>93826.63</td>\n",
       "      <td>0</td>\n",
       "    </tr>\n",
       "    <tr>\n",
       "      <th>4</th>\n",
       "      <td>5</td>\n",
       "      <td>15737888</td>\n",
       "      <td>Mitchell</td>\n",
       "      <td>850</td>\n",
       "      <td>Spain</td>\n",
       "      <td>Female</td>\n",
       "      <td>43</td>\n",
       "      <td>2.0</td>\n",
       "      <td>125510.82</td>\n",
       "      <td>1</td>\n",
       "      <td>1</td>\n",
       "      <td>1</td>\n",
       "      <td>79084.10</td>\n",
       "      <td>0</td>\n",
       "    </tr>\n",
       "  </tbody>\n",
       "</table>\n",
       "</div>"
      ],
      "text/plain": [
       "   row_number  customer_id   surname  credit_score geography  gender  age  \\\n",
       "0           1     15634602  Hargrave           619    France  Female   42   \n",
       "1           2     15647311      Hill           608     Spain  Female   41   \n",
       "2           3     15619304      Onio           502    France  Female   42   \n",
       "3           4     15701354      Boni           699    France  Female   39   \n",
       "4           5     15737888  Mitchell           850     Spain  Female   43   \n",
       "\n",
       "   tenure    balance  num_of_products  has_cr_card  is_active_member  \\\n",
       "0     2.0       0.00                1            1                 1   \n",
       "1     1.0   83807.86                1            0                 1   \n",
       "2     8.0  159660.80                3            1                 0   \n",
       "3     1.0       0.00                2            0                 0   \n",
       "4     2.0  125510.82                1            1                 1   \n",
       "\n",
       "   estimated_salary  exited  \n",
       "0         101348.88       1  \n",
       "1         112542.58       0  \n",
       "2         113931.57       1  \n",
       "3          93826.63       0  \n",
       "4          79084.10       0  "
      ]
     },
     "execution_count": 7,
     "metadata": {},
     "output_type": "execute_result"
    }
   ],
   "source": [
    "data.head()"
   ]
  },
  {
   "cell_type": "code",
   "execution_count": 8,
   "metadata": {},
   "outputs": [],
   "source": [
    "data['tenure'] = data['tenure'].fillna(0)"
   ]
  },
  {
   "cell_type": "code",
   "execution_count": 9,
   "metadata": {},
   "outputs": [
    {
     "data": {
      "text/plain": [
       "0"
      ]
     },
     "execution_count": 9,
     "metadata": {},
     "output_type": "execute_result"
    }
   ],
   "source": [
    "data.duplicated().sum()"
   ]
  },
  {
   "cell_type": "markdown",
   "metadata": {},
   "source": [
    "## Исследование задачи"
   ]
  },
  {
   "cell_type": "markdown",
   "metadata": {},
   "source": [
    "Фамилия человека, порядковый номер и идентификатор не влияют на тот факт продолжит ли он/она сотрудничать с банком или нет. Поэтому удалим данные столбцы. Далее воспользуемся техникой порядкового кодирования и подготовим данные."
   ]
  },
  {
   "cell_type": "code",
   "execution_count": 10,
   "metadata": {},
   "outputs": [],
   "source": [
    "data = data.drop(['surname', 'row_number', 'customer_id'], axis=1)"
   ]
  },
  {
   "cell_type": "code",
   "execution_count": 11,
   "metadata": {},
   "outputs": [],
   "source": [
    "data_ordinal = pd.get_dummies(data, drop_first=True)"
   ]
  },
  {
   "cell_type": "code",
   "execution_count": 12,
   "metadata": {},
   "outputs": [
    {
     "name": "stdout",
     "output_type": "stream",
     "text": [
      "0    0.7963\n",
      "1    0.2037\n",
      "Name: exited, dtype: float64\n"
     ]
    },
    {
     "data": {
      "image/png": "[encoded data removed]",
      "text/plain": [
       "<Figure size 640x480 with 1 Axes>"
      ]
     },
     "metadata": {},
     "output_type": "display_data"
    }
   ],
   "source": [
    "class_frequency = data_ordinal['exited'].value_counts(normalize=True)\n",
    "print(class_frequency)\n",
    "class_frequency.plot(\n",
    "    kind='bar',\n",
    "    title=\"Подсчёт классов в целевом признаке\",\n",
    "    color=['darkslateblue', 'plum'])\n",
    "plt.show()"
   ]
  },
  {
   "cell_type": "code",
   "execution_count": 13,
   "metadata": {},
   "outputs": [],
   "source": [
    "# Разделим данные на обучающую, валидационную и тестовую выборки\n",
    "\n",
    "do_train, do_rem = train_test_split(\n",
    "    data_ordinal, train_size=0.6, random_state=12345\n",
    ")"
   ]
  },
  {
   "cell_type": "code",
   "execution_count": 14,
   "metadata": {},
   "outputs": [],
   "source": [
    "do_test, do_valid = train_test_split(\n",
    "    do_rem, test_size=0.5, random_state=12345\n",
    ")"
   ]
  },
  {
   "cell_type": "code",
   "execution_count": 15,
   "metadata": {},
   "outputs": [
    {
     "name": "stdout",
     "output_type": "stream",
     "text": [
      "(6000, 12) (2000, 12) (2000, 12)\n"
     ]
    }
   ],
   "source": [
    "# Проверим в нужном ли соотношении разделились датасеты\n",
    "\n",
    "print(do_train.shape, do_valid.shape, do_test.shape, sep=' ')"
   ]
  },
  {
   "cell_type": "markdown",
   "metadata": {},
   "source": [
    "Выделим признаки и целевой признак."
   ]
  },
  {
   "cell_type": "code",
   "execution_count": 16,
   "metadata": {},
   "outputs": [],
   "source": [
    "target_train = do_train['exited']\n",
    "features_train = do_train.drop('exited', axis=1)\n",
    "\n",
    "target_test = do_test['exited']\n",
    "features_test = do_test.drop('exited', axis=1)\n",
    "\n",
    "target_valid = do_valid['exited']\n",
    "features_valid = do_valid.drop('exited', axis=1)"
   ]
  },
  {
   "cell_type": "markdown",
   "metadata": {},
   "source": [
    "Масштабируем признаки для дальнейших тестов."
   ]
  },
  {
   "cell_type": "code",
   "execution_count": 17,
   "metadata": {},
   "outputs": [],
   "source": [
    "numeric = ['credit_score', 'age', 'tenure',\n",
    "          'balance', 'num_of_products', 'has_cr_card', 'is_active_member', 'estimated_salary']\n",
    "scaler = StandardScaler()\n",
    "scaler.fit(features_train[numeric])\n",
    "features_train[numeric] = scaler.transform(features_train[numeric])\n",
    "features_valid[numeric] = scaler.transform(features_valid[numeric])\n",
    "features_test[numeric] = scaler.transform(features_test[numeric])"
   ]
  },
  {
   "cell_type": "markdown",
   "metadata": {},
   "source": [
    "# Обучение моделей"
   ]
  },
  {
   "cell_type": "markdown",
   "metadata": {},
   "source": [
    "## Без учета дисбаланса"
   ]
  },
  {
   "cell_type": "markdown",
   "metadata": {},
   "source": [
    "Обучим модели без учета дисбаланса классов."
   ]
  },
  {
   "cell_type": "code",
   "execution_count": 18,
   "metadata": {},
   "outputs": [
    {
     "name": "stdout",
     "output_type": "stream",
     "text": [
      "F1: 0.27478260869565213\n"
     ]
    }
   ],
   "source": [
    "model_lr_imb = LogisticRegression(random_state=12345, \n",
    "                              solver='liblinear', \n",
    "                              )\n",
    "model_lr_imb.fit(features_train, target_train)\n",
    "predicted_valid_lr_imb = model_lr_imb.predict(features_valid)\n",
    "print(\"F1:\", f1_score(target_valid, predicted_valid_lr_imb))"
   ]
  },
  {
   "cell_type": "code",
   "execution_count": 19,
   "metadata": {},
   "outputs": [
    {
     "name": "stdout",
     "output_type": "stream",
     "text": [
      "Лучшее значение F1: 0.562638006292574\n",
      "Лучшие гиперпараметры {'max_depth': 7}\n",
      "CPU times: total: 812 ms\n",
      "Wall time: 817 ms\n"
     ]
    }
   ],
   "source": [
    "%%time\n",
    "\n",
    "param_dt = {\n",
    "    'max_depth' : range(1, 15)\n",
    "}\n",
    "\n",
    "model_dt_imb = DecisionTreeClassifier(random_state=12345)\n",
    "search_dt_imb = RandomizedSearchCV(model_dt_imb, param_dt, cv=5, scoring='f1')\n",
    "search_dt_imb.fit(features_train, target_train)\n",
    "model_dt__imb_final = search_dt_imb.best_estimator_\n",
    "f1_dt_imb = search_dt_imb.best_score_\n",
    "print('Лучшее значение F1:', f1_dt_imb)\n",
    "print('Лучшие гиперпараметры', search_dt_imb.best_params_)"
   ]
  },
  {
   "cell_type": "code",
   "execution_count": 20,
   "metadata": {},
   "outputs": [
    {
     "name": "stdout",
     "output_type": "stream",
     "text": [
      "Лучшее значение F1: 0.5706295098441296\n",
      "Лучшие гиперпараметры {'n_estimators': 300, 'min_samples_split': 2, 'max_depth': 23}\n",
      "CPU times: total: 1min 3s\n",
      "Wall time: 1min 3s\n"
     ]
    }
   ],
   "source": [
    "%%time\n",
    "\n",
    "param_rf = {\n",
    "    'n_estimators': range(50, 301, 50),\n",
    "    'max_depth': range(1, 25),\n",
    "    'min_samples_split': range(2, 5)\n",
    "}\n",
    "\n",
    "model_rf_imb = RandomForestClassifier(random_state=12345)\n",
    "search_rf_imb = RandomizedSearchCV(model_rf_imb, param_rf, cv=5, scoring='f1')\n",
    "search_rf_imb.fit(features_train, target_train)\n",
    "model_rf_imb_final = search_rf_imb.best_estimator_\n",
    "f1_rf_imb = search_rf_imb.best_score_\n",
    "print('Лучшее значение F1:', f1_rf_imb)\n",
    "print('Лучшие гиперпараметры', search_rf_imb.best_params_)"
   ]
  },
  {
   "cell_type": "code",
   "execution_count": 21,
   "metadata": {},
   "outputs": [
    {
     "name": "stdout",
     "output_type": "stream",
     "text": [
      "Лучшее значение F1: 0.5796777603740393\n",
      "Лучшие гиперпараметры {'num_leaves': 4, 'n_estimators': 200, 'max_depth': 7, 'learning_rate': 0.1}\n",
      "CPU times: total: 14 s\n",
      "Wall time: 2.49 s\n"
     ]
    }
   ],
   "source": [
    "%%time\n",
    "\n",
    "param_lgbm = {'num_leaves' : range(2, 5), \n",
    "              'max_depth' : range(1, 10),\n",
    "              'n_estimators' : range(50, 301, 50),\n",
    "             'learning_rate' : [0.1, 0.01, 0.001]}\n",
    "\n",
    "model_boost_imb = lgb.LGBMClassifier(random_state=12345)\n",
    "search_boost_imb = RandomizedSearchCV(model_boost_imb, param_lgbm,\n",
    "                        cv=5, scoring='f1')\n",
    "search_boost_imb.fit(features_train, target_train)\n",
    "model_boost_imb_final = search_boost_imb.best_estimator_\n",
    "f1_lgbm_imb = search_boost_imb.best_score_\n",
    "print('Лучшее значение F1:', f1_lgbm_imb)\n",
    "print('Лучшие гиперпараметры', search_boost_imb.best_params_)"
   ]
  },
  {
   "cell_type": "markdown",
   "metadata": {},
   "source": [
    "## Борьба с дисбалансом"
   ]
  },
  {
   "cell_type": "markdown",
   "metadata": {},
   "source": [
    "### Балансировка весов классов"
   ]
  },
  {
   "cell_type": "markdown",
   "metadata": {},
   "source": [
    "Посмотрим насколько изменится F1 при установки сбалансированного веса классов."
   ]
  },
  {
   "cell_type": "code",
   "execution_count": 22,
   "metadata": {},
   "outputs": [
    {
     "name": "stdout",
     "output_type": "stream",
     "text": [
      "F1: 0.4797238999137188\n"
     ]
    }
   ],
   "source": [
    "model_lr = LogisticRegression(random_state=12345, \n",
    "                              solver='liblinear', \n",
    "                              class_weight='balanced')\n",
    "model_lr.fit(features_train, target_train)\n",
    "predicted_valid_lr = model_lr.predict(features_valid)\n",
    "print(\"F1:\", f1_score(target_valid, predicted_valid_lr))"
   ]
  },
  {
   "cell_type": "code",
   "execution_count": 23,
   "metadata": {},
   "outputs": [
    {
     "name": "stdout",
     "output_type": "stream",
     "text": [
      "Лучшее значение F1: 0.5579244727142395\n",
      "Лучшие гиперпараметры {'max_depth': 6}\n",
      "CPU times: total: 1.45 s\n",
      "Wall time: 1.19 s\n"
     ]
    }
   ],
   "source": [
    "%%time\n",
    "\n",
    "model_dt = DecisionTreeClassifier(random_state=12345, class_weight='balanced')\n",
    "search_dt = RandomizedSearchCV(model_dt, param_dt, cv=5, scoring='f1')\n",
    "search_dt.fit(features_train, target_train)\n",
    "model_dt__final = search_dt.best_estimator_\n",
    "f1_dt = search_dt.best_score_\n",
    "print('Лучшее значение F1:', f1_dt)\n",
    "print('Лучшие гиперпараметры', search_dt.best_params_)"
   ]
  },
  {
   "cell_type": "code",
   "execution_count": 24,
   "metadata": {},
   "outputs": [
    {
     "name": "stdout",
     "output_type": "stream",
     "text": [
      "Лучшее значение F1: 0.6186177623368365\n",
      "Лучшие гиперпараметры {'n_estimators': 250, 'min_samples_split': 4, 'max_depth': 9}\n",
      "CPU times: total: 1min 12s\n",
      "Wall time: 1min 12s\n"
     ]
    }
   ],
   "source": [
    "%%time\n",
    "\n",
    "model_rf = RandomForestClassifier(random_state=12345, class_weight='balanced')\n",
    "search_rf = RandomizedSearchCV(model_rf, param_rf, cv=5, scoring='f1')\n",
    "search_rf.fit(features_train, target_train)\n",
    "model_rf_final = search_rf.best_estimator_\n",
    "f1_rf = search_rf.best_score_\n",
    "print('Лучшее значение F1:', f1_rf)\n",
    "print('Лучшие гиперпараметры', search_rf.best_params_)"
   ]
  },
  {
   "cell_type": "code",
   "execution_count": 25,
   "metadata": {},
   "outputs": [
    {
     "name": "stdout",
     "output_type": "stream",
     "text": [
      "Лучшее значение F1: 0.6018365193346575\n",
      "Лучшие гиперпараметры {'num_leaves': 3, 'n_estimators': 300, 'max_depth': 7, 'learning_rate': 0.1}\n",
      "CPU times: total: 12.7 s\n",
      "Wall time: 2.17 s\n"
     ]
    }
   ],
   "source": [
    "%%time\n",
    "\n",
    "model_boost = lgb.LGBMClassifier(random_state=12345, class_weight='balanced')\n",
    "search_boost = RandomizedSearchCV(model_boost, param_lgbm,\n",
    "                        cv=5, scoring='f1')\n",
    "search_boost.fit(features_train, target_train)\n",
    "model_boost_final = search_boost.best_estimator_\n",
    "f1_lgbm = search_boost.best_score_\n",
    "print('Лучшее значение F1:', f1_lgbm)\n",
    "print('Лучшие гиперпараметры', search_boost.best_params_)"
   ]
  },
  {
   "cell_type": "markdown",
   "metadata": {},
   "source": [
    "Значение метрики увеличилось, но дисбаланс все еще присутствует."
   ]
  },
  {
   "cell_type": "markdown",
   "metadata": {},
   "source": [
    "### Увеличение выборки"
   ]
  },
  {
   "cell_type": "markdown",
   "metadata": {},
   "source": [
    "Увеличим выборку для того чтобы убрать дисбаланс в классах."
   ]
  },
  {
   "cell_type": "code",
   "execution_count": 26,
   "metadata": {},
   "outputs": [],
   "source": [
    "def upsample(features, target, repeat):\n",
    "    features_zeros = features[target == 0]\n",
    "    features_ones = features[target == 1]\n",
    "    target_zeros = target[target == 0]\n",
    "    target_ones = target[target == 1]\n",
    "\n",
    "    features_upsampled = pd.concat([features_zeros] + [features_ones] * repeat)\n",
    "    target_upsampled = pd.concat([target_zeros] + [target_ones] * repeat)\n",
    "    \n",
    "    features_upsampled, target_upsampled = shuffle(\n",
    "        features_upsampled, target_upsampled, random_state=12345)\n",
    "    \n",
    "    return features_upsampled, target_upsampled\n",
    "features_upsampled, target_upsampled = upsample(features_train, target_train, 4)"
   ]
  },
  {
   "cell_type": "code",
   "execution_count": 27,
   "metadata": {},
   "outputs": [
    {
     "name": "stdout",
     "output_type": "stream",
     "text": [
      "(9588, 11)\n"
     ]
    }
   ],
   "source": [
    "print(features_upsampled.shape)"
   ]
  },
  {
   "cell_type": "markdown",
   "metadata": {},
   "source": [
    "Посмотрим как изменился баланс классов после увеличения выборки."
   ]
  },
  {
   "cell_type": "code",
   "execution_count": 28,
   "metadata": {},
   "outputs": [
    {
     "name": "stdout",
     "output_type": "stream",
     "text": [
      "0    0.501043\n",
      "1    0.498957\n",
      "Name: exited, dtype: float64\n"
     ]
    }
   ],
   "source": [
    "class_frequency1 = target_upsampled.value_counts(normalize=True)\n",
    "print(class_frequency1)"
   ]
  },
  {
   "cell_type": "markdown",
   "metadata": {},
   "source": [
    "Обучим модели на сбалансированной выборке и найдем подходящие гиперпараметры."
   ]
  },
  {
   "cell_type": "code",
   "execution_count": 29,
   "metadata": {},
   "outputs": [
    {
     "name": "stdout",
     "output_type": "stream",
     "text": [
      "F1: 0.4793103448275862\n"
     ]
    }
   ],
   "source": [
    "model_lr.fit(features_upsampled, target_upsampled)\n",
    "predicted_valid_lr_up = model_lr.predict(features_valid)\n",
    "f1_lr_up = f1_score(target_valid, predicted_valid_lr_up)\n",
    "print(\"F1:\", f1_lr_up)"
   ]
  },
  {
   "cell_type": "code",
   "execution_count": 30,
   "metadata": {},
   "outputs": [
    {
     "name": "stdout",
     "output_type": "stream",
     "text": [
      "Лучшее значение F1: 0.8906370436283275\n",
      "Лучшие гиперпараметры {'max_depth': 13}\n",
      "CPU times: total: 1.41 s\n",
      "Wall time: 1.41 s\n"
     ]
    }
   ],
   "source": [
    "%%time\n",
    "\n",
    "model_dt_up = DecisionTreeClassifier(random_state=12345, class_weight='balanced')\n",
    "search_dt_up = RandomizedSearchCV(model_dt, param_dt, cv=5, scoring='f1')\n",
    "search_dt_up.fit(features_upsampled, target_upsampled)\n",
    "model_dt_up_final = search_dt_up.best_estimator_\n",
    "f1_dt_up = search_dt_up.best_score_\n",
    "print('Лучшее значение F1:', f1_dt_up)\n",
    "print('Лучшие гиперпараметры', search_dt_up.best_params_)"
   ]
  },
  {
   "cell_type": "code",
   "execution_count": 31,
   "metadata": {},
   "outputs": [
    {
     "name": "stdout",
     "output_type": "stream",
     "text": [
      "F1: 0.5180467091295117\n"
     ]
    }
   ],
   "source": [
    "predicted_valid_dt_up = model_dt_up_final.predict(features_valid)\n",
    "f1_dt_up = f1_score(target_valid, predicted_valid_dt_up)\n",
    "print(\"F1:\", f1_dt_up)"
   ]
  },
  {
   "cell_type": "code",
   "execution_count": 32,
   "metadata": {},
   "outputs": [
    {
     "name": "stdout",
     "output_type": "stream",
     "text": [
      "Лучшее значение F1: 0.9609342357555398\n",
      "Лучшие гиперпараметры {'n_estimators': 250, 'min_samples_split': 2, 'max_depth': 19}\n",
      "CPU times: total: 54.6 s\n",
      "Wall time: 54.6 s\n"
     ]
    }
   ],
   "source": [
    "%%time\n",
    "\n",
    "model_rf_up = RandomForestClassifier(random_state=12345, class_weight='balanced')\n",
    "search_rf_up = RandomizedSearchCV(model_rf_up, param_rf, cv=5, scoring='f1')\n",
    "search_rf_up.fit(features_upsampled, target_upsampled)\n",
    "model_rf_up_final = search_rf_up.best_estimator_\n",
    "f1_rf_up = search_rf_up.best_score_\n",
    "print('Лучшее значение F1:', f1_rf_up)\n",
    "print('Лучшие гиперпараметры', search_rf_up.best_params_)"
   ]
  },
  {
   "cell_type": "code",
   "execution_count": 33,
   "metadata": {},
   "outputs": [
    {
     "name": "stdout",
     "output_type": "stream",
     "text": [
      "F1: 0.5971316818774445\n"
     ]
    }
   ],
   "source": [
    "predicted_valid_rf_up = model_rf_up_final.predict(features_valid)\n",
    "f1_rf_up = f1_score(target_valid, predicted_valid_rf_up)\n",
    "print(\"F1:\", f1_rf_up)"
   ]
  },
  {
   "cell_type": "code",
   "execution_count": 34,
   "metadata": {},
   "outputs": [
    {
     "name": "stdout",
     "output_type": "stream",
     "text": [
      "Лучшее значение F1: 0.8025421767650576\n",
      "Лучшие гиперпараметры {'num_leaves': 4, 'n_estimators': 300, 'max_depth': 3, 'learning_rate': 0.1}\n",
      "CPU times: total: 24 s\n",
      "Wall time: 3.68 s\n"
     ]
    }
   ],
   "source": [
    "%%time\n",
    "\n",
    "model_boost_up = lgb.LGBMClassifier(random_state=12345, class_weight='balanced')\n",
    "search_boost_up = RandomizedSearchCV(model_boost_up, param_lgbm,\n",
    "                        cv=5, scoring='f1')\n",
    "search_boost_up.fit(features_upsampled, target_upsampled)\n",
    "model_boost_up_final = search_boost_up.best_estimator_\n",
    "f1_lgbm_up = search_boost_up.best_score_\n",
    "print('Лучшее значение F1:', f1_lgbm_up)\n",
    "print('Лучшие гиперпараметры', search_boost_up.best_params_)"
   ]
  },
  {
   "cell_type": "code",
   "execution_count": 35,
   "metadata": {},
   "outputs": [
    {
     "name": "stdout",
     "output_type": "stream",
     "text": [
      "F1: 0.6183953033268101\n"
     ]
    }
   ],
   "source": [
    "predicted_valid_lgbm_up = model_boost_up_final.predict(features_valid)\n",
    "f1_lgbm_up = f1_score(target_valid, predicted_valid_lgbm_up)\n",
    "print(\"F1:\", f1_lgbm_up)"
   ]
  },
  {
   "cell_type": "code",
   "execution_count": 36,
   "metadata": {},
   "outputs": [
    {
     "data": {
      "text/html": [
       "<div>\n",
       "<style scoped>\n",
       "    .dataframe tbody tr th:only-of-type {\n",
       "        vertical-align: middle;\n",
       "    }\n",
       "\n",
       "    .dataframe tbody tr th {\n",
       "        vertical-align: top;\n",
       "    }\n",
       "\n",
       "    .dataframe thead th {\n",
       "        text-align: right;\n",
       "    }\n",
       "</style>\n",
       "<table border=\"1\" class=\"dataframe\">\n",
       "  <thead>\n",
       "    <tr style=\"text-align: right;\">\n",
       "      <th></th>\n",
       "      <th>F1</th>\n",
       "    </tr>\n",
       "  </thead>\n",
       "  <tbody>\n",
       "    <tr>\n",
       "      <th>LGBM</th>\n",
       "      <td>0.618395</td>\n",
       "    </tr>\n",
       "    <tr>\n",
       "      <th>Random Forest</th>\n",
       "      <td>0.597132</td>\n",
       "    </tr>\n",
       "    <tr>\n",
       "      <th>Decision Tree</th>\n",
       "      <td>0.518047</td>\n",
       "    </tr>\n",
       "    <tr>\n",
       "      <th>Logistic Regression</th>\n",
       "      <td>0.479310</td>\n",
       "    </tr>\n",
       "  </tbody>\n",
       "</table>\n",
       "</div>"
      ],
      "text/plain": [
       "                           F1\n",
       "LGBM                 0.618395\n",
       "Random Forest        0.597132\n",
       "Decision Tree        0.518047\n",
       "Logistic Regression  0.479310"
      ]
     },
     "execution_count": 36,
     "metadata": {},
     "output_type": "execute_result"
    }
   ],
   "source": [
    "summary = pd.DataFrame(\n",
    "    {\n",
    "        'F1' : [f1_lr_up, f1_dt_up, f1_rf_up, f1_lgbm_up]\n",
    "    },\n",
    "    index = ['Logistic Regression', 'Decision Tree', 'Random Forest', 'LGBM']\n",
    ").sort_values(by='F1', ascending=False)\n",
    "summary"
   ]
  },
  {
   "cell_type": "markdown",
   "metadata": {},
   "source": [
    "## Тестирование модели"
   ]
  },
  {
   "cell_type": "markdown",
   "metadata": {},
   "source": [
    "Наилучший результат F1 на тренировочной выборке показали: градиентный бустинг и случайный лес. Протестируем эти модели на тестовой выборке установив соответствующие гиперпараметры."
   ]
  },
  {
   "cell_type": "code",
   "execution_count": 37,
   "metadata": {},
   "outputs": [
    {
     "name": "stdout",
     "output_type": "stream",
     "text": [
      "F1: 0.6141885325558796\n",
      "AUC-ROC 0.8634238956199831\n"
     ]
    }
   ],
   "source": [
    "predicted_lgbm_up = model_boost_up_final.predict(features_test)\n",
    "probabilities_test_lgbm = model_boost_up_final.predict_proba(features_test)\n",
    "probabilities_one_test_lgbm = probabilities_test_lgbm[:, 1]\n",
    "auc_roc = roc_auc_score(target_test, probabilities_one_test_lgbm)\n",
    "\n",
    "print(\"F1:\", f1_score(target_test, predicted_lgbm_up))\n",
    "print(\"AUC-ROC\", auc_roc)"
   ]
  },
  {
   "cell_type": "code",
   "execution_count": 38,
   "metadata": {},
   "outputs": [
    {
     "data": {
      "image/png": "[encoded data removed]",
      "text/plain": [
       "<Figure size 640x480 with 1 Axes>"
      ]
     },
     "metadata": {},
     "output_type": "display_data"
    }
   ],
   "source": [
    "fpr_lgbm, tpr_lgbm, thresholds = roc_curve(target_test, probabilities_one_test_lgbm)\n",
    "\n",
    "plt.figure()\n",
    "plt.plot(fpr_lgbm, tpr_lgbm)\n",
    "plt.plot([0, 1], [0, 1], linestyle='--')\n",
    "plt.xlim([0.0, 1.0])\n",
    "plt.ylim([0.0, 1.0])\n",
    "plt.xlabel(\"False Positive Rate\")\n",
    "plt.ylabel(\"True Positive Rate\")\n",
    "plt.title(\"ROC-кривая\")\n",
    "plt.show()"
   ]
  },
  {
   "cell_type": "code",
   "execution_count": 39,
   "metadata": {},
   "outputs": [
    {
     "name": "stdout",
     "output_type": "stream",
     "text": [
      "F1: 0.6105263157894737\n",
      "AUC-ROC 0.8403548593930522\n"
     ]
    }
   ],
   "source": [
    "predicted_rf_up = model_rf_up_final.predict(features_test)\n",
    "probabilities_test_rf = model_rf_up_final.predict_proba(features_test)\n",
    "probabilities_one_test_rf = probabilities_test_rf[:, 1]\n",
    "auc_roc = roc_auc_score(target_test, probabilities_one_test_rf)\n",
    "\n",
    "print(\"F1:\", f1_score(target_test, predicted_rf_up))\n",
    "print(\"AUC-ROC\", auc_roc)"
   ]
  },
  {
   "cell_type": "code",
   "execution_count": 40,
   "metadata": {},
   "outputs": [
    {
     "data": {
      "image/png": "[encoded data removed]",
      "text/plain": [
       "<Figure size 640x480 with 1 Axes>"
      ]
     },
     "metadata": {},
     "output_type": "display_data"
    }
   ],
   "source": [
    "fpr_rf, tpr_rf, thresholds = roc_curve(target_test, probabilities_one_test_rf)\n",
    "\n",
    "plt.figure()\n",
    "plt.plot(fpr_rf, tpr_rf)\n",
    "plt.plot([0, 1], [0, 1], linestyle='--')\n",
    "plt.xlim([0.0, 1.0])\n",
    "plt.ylim([0.0, 1.0])\n",
    "plt.xlabel(\"False Positive Rate\")\n",
    "plt.ylabel(\"True Positive Rate\")\n",
    "plt.title(\"ROC-кривая\")\n",
    "plt.show()"
   ]
  },
  {
   "cell_type": "markdown",
   "metadata": {},
   "source": [
    "Значения F1 и Auc-roc довольно большие. Это значит, что модель обучена хорошо."
   ]
  },
  {
   "cell_type": "markdown",
   "metadata": {},
   "source": [
    "## Вывод"
   ]
  },
  {
   "cell_type": "markdown",
   "metadata": {},
   "source": [
    "В ходе данной работы было сделано следующее:\n",
    "- первичный обзор данных, удаление пропусков и ненужных столбцов\n",
    "- применена техника порядкового кодирования\n",
    "- подсчет классов целевого признака до изменений\n",
    "- разделение данных на три выборки: тренировочная, валидационная и тестовая\n",
    "- масштабирование признаков\n",
    "\n",
    "Далее модели решающего дерева, случайного леса и логистической регрессии были обучены без учета дисбаланса. Следующим шагом стало обучение моделей с учетом сбалансированного веса классов. После увеличения выборки, модели были протестированы с учетом новых данных, также были найдены соответствующие гиперпарамтеры.\n",
    "\n",
    "Для финального теста были выбраны дерево решений и случайный лес, так как они показали наилучший результат на предыдущих этапах. Так же были добавлены графики ROC-кривой.\n",
    "\n",
    "<b>Результат:</b> обе модели показали высокое значение метрик F1 и ROC-AUC."
   ]
  }
 ],
 "metadata": {
  "ExecuteTimeLog": [
   {
    "duration": 375,
    "start_time": "2022-09-20T15:44:13.256Z"
   },
   {
    "duration": 165,
    "start_time": "2022-09-20T15:44:13.907Z"
   },
   {
    "duration": 20,
    "start_time": "2022-09-20T15:44:19.016Z"
   },
   {
    "duration": 17,
    "start_time": "2022-09-20T15:44:37.123Z"
   },
   {
    "duration": 74,
    "start_time": "2022-09-20T15:56:56.131Z"
   },
   {
    "duration": 634,
    "start_time": "2022-09-20T15:57:04.717Z"
   },
   {
    "duration": 52,
    "start_time": "2022-09-20T15:57:09.619Z"
   },
   {
    "duration": 10,
    "start_time": "2022-09-20T15:57:27.711Z"
   },
   {
    "duration": 14,
    "start_time": "2022-09-20T16:00:03.908Z"
   },
   {
    "duration": 8,
    "start_time": "2022-09-20T16:00:30.516Z"
   },
   {
    "duration": 19,
    "start_time": "2022-09-20T16:01:28.530Z"
   },
   {
    "duration": 22,
    "start_time": "2022-09-20T16:01:32.636Z"
   },
   {
    "duration": 7,
    "start_time": "2022-09-20T16:03:00.696Z"
   },
   {
    "duration": 262,
    "start_time": "2022-09-20T16:04:37.564Z"
   },
   {
    "duration": 58,
    "start_time": "2022-09-20T16:04:39.682Z"
   },
   {
    "duration": 367,
    "start_time": "2022-09-20T16:05:12.449Z"
   },
   {
    "duration": 2,
    "start_time": "2022-09-20T16:08:08.905Z"
   },
   {
    "duration": 6,
    "start_time": "2022-09-20T16:08:13.519Z"
   },
   {
    "duration": 499,
    "start_time": "2022-09-20T16:09:07.748Z"
   },
   {
    "duration": 109,
    "start_time": "2022-09-20T16:10:47.394Z"
   },
   {
    "duration": 108,
    "start_time": "2022-09-20T16:10:51.765Z"
   },
   {
    "duration": 6,
    "start_time": "2022-09-20T16:14:54.031Z"
   },
   {
    "duration": 96,
    "start_time": "2022-09-20T16:15:03.091Z"
   },
   {
    "duration": 113,
    "start_time": "2022-09-20T16:18:23.696Z"
   },
   {
    "duration": 107,
    "start_time": "2022-09-20T16:29:27.963Z"
   },
   {
    "duration": 203,
    "start_time": "2022-09-20T16:29:37.744Z"
   },
   {
    "duration": 22,
    "start_time": "2022-09-20T16:34:12.238Z"
   },
   {
    "duration": 7,
    "start_time": "2022-09-20T16:34:34.946Z"
   },
   {
    "duration": 21,
    "start_time": "2022-09-20T16:39:13.893Z"
   },
   {
    "duration": 120,
    "start_time": "2022-09-20T16:39:36.843Z"
   },
   {
    "duration": 193,
    "start_time": "2022-09-20T16:50:21.096Z"
   },
   {
    "duration": 128,
    "start_time": "2022-09-20T16:51:06.869Z"
   },
   {
    "duration": 1702,
    "start_time": "2022-09-21T13:43:59.978Z"
   },
   {
    "duration": 337,
    "start_time": "2022-09-21T13:44:03.259Z"
   },
   {
    "duration": 14,
    "start_time": "2022-09-21T13:44:04.983Z"
   },
   {
    "duration": 16,
    "start_time": "2022-09-21T13:44:24.135Z"
   },
   {
    "duration": 51,
    "start_time": "2022-09-21T13:44:32.055Z"
   },
   {
    "duration": 4,
    "start_time": "2022-09-21T13:44:37.797Z"
   },
   {
    "duration": 13,
    "start_time": "2022-09-21T13:45:32.694Z"
   },
   {
    "duration": 5,
    "start_time": "2022-09-21T13:47:28.102Z"
   },
   {
    "duration": 71,
    "start_time": "2022-09-21T13:49:00.787Z"
   },
   {
    "duration": 4,
    "start_time": "2022-09-21T13:49:19.782Z"
   },
   {
    "duration": 126,
    "start_time": "2022-09-21T13:49:31.496Z"
   },
   {
    "duration": 7,
    "start_time": "2022-09-21T13:49:54.907Z"
   },
   {
    "duration": 1525,
    "start_time": "2022-09-23T12:31:16.626Z"
   },
   {
    "duration": 81,
    "start_time": "2022-09-23T12:31:18.153Z"
   },
   {
    "duration": 13,
    "start_time": "2022-09-23T12:31:18.235Z"
   },
   {
    "duration": 24,
    "start_time": "2022-09-23T12:31:18.250Z"
   },
   {
    "duration": 63,
    "start_time": "2022-09-23T12:31:18.275Z"
   },
   {
    "duration": 3,
    "start_time": "2022-09-23T12:31:18.339Z"
   },
   {
    "duration": 25,
    "start_time": "2022-09-23T12:31:18.343Z"
   },
   {
    "duration": 68,
    "start_time": "2022-09-23T12:31:18.369Z"
   },
   {
    "duration": 4,
    "start_time": "2022-09-23T12:31:18.438Z"
   },
   {
    "duration": 138,
    "start_time": "2022-09-23T12:31:18.444Z"
   },
   {
    "duration": 7,
    "start_time": "2022-09-23T12:31:18.583Z"
   },
   {
    "duration": 341,
    "start_time": "2022-09-23T12:31:23.780Z"
   },
   {
    "duration": 5,
    "start_time": "2022-09-23T12:31:42.606Z"
   },
   {
    "duration": 131,
    "start_time": "2022-09-23T12:31:48.103Z"
   },
   {
    "duration": 262,
    "start_time": "2022-09-23T12:34:05.545Z"
   },
   {
    "duration": 104,
    "start_time": "2022-09-23T12:34:07.838Z"
   },
   {
    "duration": 141,
    "start_time": "2022-09-23T12:34:18.792Z"
   },
   {
    "duration": 106,
    "start_time": "2022-09-23T12:45:24.436Z"
   },
   {
    "duration": 95,
    "start_time": "2022-09-23T12:45:54.082Z"
   },
   {
    "duration": 1446,
    "start_time": "2022-09-24T18:34:05.246Z"
   },
   {
    "duration": 156,
    "start_time": "2022-09-24T18:34:06.693Z"
   },
   {
    "duration": 18,
    "start_time": "2022-09-24T18:34:06.850Z"
   },
   {
    "duration": 15,
    "start_time": "2022-09-24T18:34:06.871Z"
   },
   {
    "duration": 52,
    "start_time": "2022-09-24T18:34:06.887Z"
   },
   {
    "duration": 3,
    "start_time": "2022-09-24T18:34:06.941Z"
   },
   {
    "duration": 15,
    "start_time": "2022-09-24T18:34:06.945Z"
   },
   {
    "duration": 68,
    "start_time": "2022-09-24T18:34:06.961Z"
   },
   {
    "duration": 534,
    "start_time": "2022-09-24T18:34:07.030Z"
   },
   {
    "duration": 127,
    "start_time": "2022-09-24T18:34:07.567Z"
   },
   {
    "duration": 97,
    "start_time": "2022-09-24T18:34:07.695Z"
   },
   {
    "duration": 1132,
    "start_time": "2022-09-24T18:34:47.091Z"
   },
   {
    "duration": 36,
    "start_time": "2022-09-24T18:35:29.011Z"
   },
   {
    "duration": 108,
    "start_time": "2022-09-24T18:35:34.770Z"
   },
   {
    "duration": 55,
    "start_time": "2022-09-24T18:35:38.023Z"
   },
   {
    "duration": 239,
    "start_time": "2022-09-24T18:35:47.846Z"
   },
   {
    "duration": 76,
    "start_time": "2022-09-24T18:35:51.344Z"
   },
   {
    "duration": 4,
    "start_time": "2022-09-24T18:38:23.818Z"
   },
   {
    "duration": 93,
    "start_time": "2022-09-24T18:38:26.447Z"
   },
   {
    "duration": 10,
    "start_time": "2022-09-24T18:38:52.363Z"
   },
   {
    "duration": 110,
    "start_time": "2022-09-24T18:39:26.711Z"
   },
   {
    "duration": 4,
    "start_time": "2022-09-24T18:39:47.694Z"
   },
   {
    "duration": 4,
    "start_time": "2022-09-24T18:39:53.632Z"
   },
   {
    "duration": 2493,
    "start_time": "2022-09-24T18:39:54.931Z"
   },
   {
    "duration": 4,
    "start_time": "2022-09-24T18:42:21.804Z"
   },
   {
    "duration": 10,
    "start_time": "2022-09-24T18:42:22.738Z"
   },
   {
    "duration": 113,
    "start_time": "2022-09-24T18:42:30.392Z"
   },
   {
    "duration": 63,
    "start_time": "2022-09-24T18:42:34.103Z"
   },
   {
    "duration": 1242,
    "start_time": "2022-09-24T18:42:55.278Z"
   },
   {
    "duration": 38,
    "start_time": "2022-09-24T18:42:56.522Z"
   },
   {
    "duration": 12,
    "start_time": "2022-09-24T18:42:56.561Z"
   },
   {
    "duration": 13,
    "start_time": "2022-09-24T18:42:56.575Z"
   },
   {
    "duration": 45,
    "start_time": "2022-09-24T18:42:56.589Z"
   },
   {
    "duration": 4,
    "start_time": "2022-09-24T18:42:56.635Z"
   },
   {
    "duration": 15,
    "start_time": "2022-09-24T18:42:56.640Z"
   },
   {
    "duration": 54,
    "start_time": "2022-09-24T18:42:56.656Z"
   },
   {
    "duration": 252,
    "start_time": "2022-09-24T18:42:56.721Z"
   },
   {
    "duration": 116,
    "start_time": "2022-09-24T18:42:56.975Z"
   },
   {
    "duration": 66,
    "start_time": "2022-09-24T18:42:57.092Z"
   },
   {
    "duration": 665,
    "start_time": "2022-09-24T18:42:57.160Z"
   },
   {
    "duration": 4,
    "start_time": "2022-09-24T18:44:13.329Z"
   },
   {
    "duration": 2008,
    "start_time": "2022-09-24T18:44:15.168Z"
   },
   {
    "duration": 42,
    "start_time": "2022-09-24T18:49:22.771Z"
   },
   {
    "duration": 10,
    "start_time": "2022-09-24T18:49:23.893Z"
   },
   {
    "duration": 106,
    "start_time": "2022-09-24T18:49:25.320Z"
   },
   {
    "duration": 6,
    "start_time": "2022-09-24T18:49:29.474Z"
   },
   {
    "duration": 89,
    "start_time": "2022-09-24T18:49:33.763Z"
   },
   {
    "duration": 14,
    "start_time": "2022-09-24T18:49:38.526Z"
   },
   {
    "duration": 44,
    "start_time": "2022-09-24T18:49:42.533Z"
   },
   {
    "duration": 3,
    "start_time": "2022-09-24T18:50:51.831Z"
   },
   {
    "duration": 3,
    "start_time": "2022-09-24T18:51:02.027Z"
   },
   {
    "duration": 86,
    "start_time": "2022-09-24T18:51:27.136Z"
   },
   {
    "duration": 39,
    "start_time": "2022-09-24T18:54:10.063Z"
   },
   {
    "duration": 1601,
    "start_time": "2022-09-25T17:36:57.733Z"
   },
   {
    "duration": 154,
    "start_time": "2022-09-25T17:36:59.336Z"
   },
   {
    "duration": 14,
    "start_time": "2022-09-25T17:36:59.492Z"
   },
   {
    "duration": 15,
    "start_time": "2022-09-25T17:36:59.508Z"
   },
   {
    "duration": 65,
    "start_time": "2022-09-25T17:36:59.525Z"
   },
   {
    "duration": 4,
    "start_time": "2022-09-25T17:36:59.592Z"
   },
   {
    "duration": 15,
    "start_time": "2022-09-25T17:36:59.598Z"
   },
   {
    "duration": 64,
    "start_time": "2022-09-25T17:36:59.614Z"
   },
   {
    "duration": 12,
    "start_time": "2022-09-25T17:36:59.690Z"
   },
   {
    "duration": 118,
    "start_time": "2022-09-25T17:37:02.259Z"
   },
   {
    "duration": 141,
    "start_time": "2022-09-25T17:37:39.337Z"
   },
   {
    "duration": 9,
    "start_time": "2022-09-25T17:37:43.811Z"
   },
   {
    "duration": 34,
    "start_time": "2022-09-25T17:37:47.120Z"
   },
   {
    "duration": 69,
    "start_time": "2022-09-25T17:37:50.922Z"
   },
   {
    "duration": 15,
    "start_time": "2022-09-25T17:37:59.860Z"
   },
   {
    "duration": 3,
    "start_time": "2022-09-25T17:38:03.260Z"
   },
   {
    "duration": 123,
    "start_time": "2022-09-25T17:38:06.566Z"
   },
   {
    "duration": 52,
    "start_time": "2022-09-25T17:58:53.743Z"
   },
   {
    "duration": 71,
    "start_time": "2022-09-25T17:59:53.479Z"
   },
   {
    "duration": 77,
    "start_time": "2022-09-25T18:00:20.915Z"
   },
   {
    "duration": 33,
    "start_time": "2022-09-25T18:12:47.396Z"
   },
   {
    "duration": 125,
    "start_time": "2022-09-25T18:17:32.138Z"
   },
   {
    "duration": 56,
    "start_time": "2022-09-25T18:19:42.112Z"
   },
   {
    "duration": 285,
    "start_time": "2022-09-25T18:20:13.140Z"
   },
   {
    "duration": 101,
    "start_time": "2022-09-25T18:20:21.936Z"
   },
   {
    "duration": 266,
    "start_time": "2022-09-25T18:23:39.001Z"
   },
   {
    "duration": 52,
    "start_time": "2022-09-25T18:24:21.614Z"
   },
   {
    "duration": 252,
    "start_time": "2022-09-25T18:24:45.047Z"
   },
   {
    "duration": 38,
    "start_time": "2022-09-25T18:25:03.621Z"
   },
   {
    "duration": 99,
    "start_time": "2022-09-25T18:25:37.027Z"
   },
   {
    "duration": 59,
    "start_time": "2022-09-25T18:25:52.075Z"
   },
   {
    "duration": 609,
    "start_time": "2022-09-25T18:27:06.839Z"
   },
   {
    "duration": 558,
    "start_time": "2022-09-25T18:27:48.501Z"
   },
   {
    "duration": 97,
    "start_time": "2022-09-25T18:28:28.662Z"
   },
   {
    "duration": 212,
    "start_time": "2022-09-25T18:28:35.685Z"
   },
   {
    "duration": 1262,
    "start_time": "2022-09-25T18:29:33.177Z"
   },
   {
    "duration": 261,
    "start_time": "2022-09-25T18:29:43.098Z"
   },
   {
    "duration": 102,
    "start_time": "2022-09-25T18:31:30.790Z"
   },
   {
    "duration": 286,
    "start_time": "2022-09-25T18:31:34.999Z"
   },
   {
    "duration": 1295,
    "start_time": "2022-09-25T18:31:51.218Z"
   },
   {
    "duration": 68,
    "start_time": "2022-09-25T18:32:02.143Z"
   },
   {
    "duration": 323,
    "start_time": "2022-09-25T18:32:31.358Z"
   },
   {
    "duration": 1304,
    "start_time": "2022-09-25T18:32:41.158Z"
   },
   {
    "duration": 5,
    "start_time": "2022-09-25T18:38:59.062Z"
   },
   {
    "duration": 162,
    "start_time": "2022-09-25T18:40:39.036Z"
   },
   {
    "duration": 176,
    "start_time": "2022-09-25T18:41:38.921Z"
   },
   {
    "duration": 1586,
    "start_time": "2022-09-27T15:47:29.436Z"
   },
   {
    "duration": 80,
    "start_time": "2022-09-27T15:47:31.023Z"
   },
   {
    "duration": 14,
    "start_time": "2022-09-27T15:47:31.105Z"
   },
   {
    "duration": 26,
    "start_time": "2022-09-27T15:47:31.121Z"
   },
   {
    "duration": 61,
    "start_time": "2022-09-27T15:47:31.148Z"
   },
   {
    "duration": 5,
    "start_time": "2022-09-27T15:47:31.211Z"
   },
   {
    "duration": 28,
    "start_time": "2022-09-27T15:47:31.217Z"
   },
   {
    "duration": 59,
    "start_time": "2022-09-27T15:47:31.247Z"
   },
   {
    "duration": 12,
    "start_time": "2022-09-27T15:47:31.308Z"
   },
   {
    "duration": 147,
    "start_time": "2022-09-27T15:47:31.323Z"
   },
   {
    "duration": 8,
    "start_time": "2022-09-27T15:47:31.472Z"
   },
   {
    "duration": 46,
    "start_time": "2022-09-27T15:47:31.482Z"
   },
   {
    "duration": 108,
    "start_time": "2022-09-27T15:47:31.529Z"
   },
   {
    "duration": 351,
    "start_time": "2022-09-27T15:47:31.640Z"
   },
   {
    "duration": 1085,
    "start_time": "2022-09-27T15:47:31.993Z"
   },
   {
    "duration": 13,
    "start_time": "2022-09-27T15:47:33.079Z"
   },
   {
    "duration": 17,
    "start_time": "2022-09-27T15:47:33.094Z"
   },
   {
    "duration": 327,
    "start_time": "2022-09-27T15:47:33.112Z"
   },
   {
    "duration": 190,
    "start_time": "2022-09-27T15:48:13.750Z"
   },
   {
    "duration": 108,
    "start_time": "2022-09-27T15:48:40.533Z"
   },
   {
    "duration": 57,
    "start_time": "2022-09-27T15:48:49.369Z"
   },
   {
    "duration": 281,
    "start_time": "2022-09-27T15:49:51.975Z"
   },
   {
    "duration": 274,
    "start_time": "2022-09-27T15:50:26.938Z"
   },
   {
    "duration": 273,
    "start_time": "2022-09-27T15:51:04.908Z"
   },
   {
    "duration": 1315,
    "start_time": "2022-09-27T16:03:29.397Z"
   },
   {
    "duration": 42,
    "start_time": "2022-09-27T16:03:30.714Z"
   },
   {
    "duration": 13,
    "start_time": "2022-09-27T16:03:30.758Z"
   },
   {
    "duration": 36,
    "start_time": "2022-09-27T16:03:30.773Z"
   },
   {
    "duration": 79,
    "start_time": "2022-09-27T16:03:30.811Z"
   },
   {
    "duration": 4,
    "start_time": "2022-09-27T16:03:30.892Z"
   },
   {
    "duration": 37,
    "start_time": "2022-09-27T16:03:30.898Z"
   },
   {
    "duration": 60,
    "start_time": "2022-09-27T16:03:30.937Z"
   },
   {
    "duration": 13,
    "start_time": "2022-09-27T16:03:30.998Z"
   },
   {
    "duration": 136,
    "start_time": "2022-09-27T16:03:31.013Z"
   },
   {
    "duration": 10,
    "start_time": "2022-09-27T16:03:31.151Z"
   },
   {
    "duration": 64,
    "start_time": "2022-09-27T16:03:31.162Z"
   },
   {
    "duration": 108,
    "start_time": "2022-09-27T16:03:31.227Z"
   },
   {
    "duration": 351,
    "start_time": "2022-09-27T16:03:31.337Z"
   },
   {
    "duration": 1148,
    "start_time": "2022-09-27T16:03:31.690Z"
   },
   {
    "duration": 17,
    "start_time": "2022-09-27T16:03:32.840Z"
   },
   {
    "duration": 4,
    "start_time": "2022-09-27T16:03:32.859Z"
   },
   {
    "duration": 77,
    "start_time": "2022-09-27T16:03:32.865Z"
   },
   {
    "duration": 282,
    "start_time": "2022-09-27T16:03:32.944Z"
   },
   {
    "duration": 1628,
    "start_time": "2022-09-29T11:10:59.370Z"
   },
   {
    "duration": 82,
    "start_time": "2022-09-29T11:11:05.154Z"
   },
   {
    "duration": 14,
    "start_time": "2022-09-29T11:11:07.499Z"
   },
   {
    "duration": 18,
    "start_time": "2022-09-29T11:11:10.932Z"
   },
   {
    "duration": 54,
    "start_time": "2022-09-29T11:11:19.662Z"
   },
   {
    "duration": 4,
    "start_time": "2022-09-29T11:11:25.144Z"
   },
   {
    "duration": 15,
    "start_time": "2022-09-29T11:11:28.716Z"
   },
   {
    "duration": 5,
    "start_time": "2022-09-29T11:11:35.744Z"
   },
   {
    "duration": 12,
    "start_time": "2022-09-29T11:11:42.315Z"
   },
   {
    "duration": 131,
    "start_time": "2022-09-29T11:11:47.575Z"
   },
   {
    "duration": 8,
    "start_time": "2022-09-29T11:11:53.386Z"
   },
   {
    "duration": 6,
    "start_time": "2022-09-29T11:11:54.753Z"
   },
   {
    "duration": 4,
    "start_time": "2022-09-29T11:11:57.079Z"
   },
   {
    "duration": 5,
    "start_time": "2022-09-29T11:12:30.307Z"
   },
   {
    "duration": 5,
    "start_time": "2022-09-29T11:12:31.243Z"
   },
   {
    "duration": 4,
    "start_time": "2022-09-29T11:12:31.939Z"
   },
   {
    "duration": 117,
    "start_time": "2022-09-29T11:12:37.789Z"
   },
   {
    "duration": 25,
    "start_time": "2022-09-29T11:13:18.413Z"
   },
   {
    "duration": 29,
    "start_time": "2022-09-29T11:13:56.319Z"
   },
   {
    "duration": 22,
    "start_time": "2022-09-29T11:40:27.955Z"
   },
   {
    "duration": 1682,
    "start_time": "2022-09-29T14:31:46.186Z"
   },
   {
    "duration": 165,
    "start_time": "2022-09-29T14:31:47.870Z"
   },
   {
    "duration": 21,
    "start_time": "2022-09-29T14:31:48.037Z"
   },
   {
    "duration": 18,
    "start_time": "2022-09-29T14:31:48.060Z"
   },
   {
    "duration": 63,
    "start_time": "2022-09-29T14:31:48.080Z"
   },
   {
    "duration": 3,
    "start_time": "2022-09-29T14:31:48.145Z"
   },
   {
    "duration": 17,
    "start_time": "2022-09-29T14:31:48.150Z"
   },
   {
    "duration": 4,
    "start_time": "2022-09-29T14:31:48.169Z"
   },
   {
    "duration": 28,
    "start_time": "2022-09-29T14:31:48.175Z"
   },
   {
    "duration": 151,
    "start_time": "2022-09-29T14:31:48.205Z"
   },
   {
    "duration": 7,
    "start_time": "2022-09-29T14:31:48.358Z"
   },
   {
    "duration": 6,
    "start_time": "2022-09-29T14:31:48.366Z"
   },
   {
    "duration": 22,
    "start_time": "2022-09-29T14:31:48.374Z"
   },
   {
    "duration": 7,
    "start_time": "2022-09-29T14:31:48.398Z"
   },
   {
    "duration": 7,
    "start_time": "2022-09-29T14:31:48.407Z"
   },
   {
    "duration": 6,
    "start_time": "2022-09-29T14:31:48.416Z"
   },
   {
    "duration": 71,
    "start_time": "2022-09-29T14:31:48.424Z"
   },
   {
    "duration": 23,
    "start_time": "2022-09-29T14:31:48.497Z"
   },
   {
    "duration": 21,
    "start_time": "2022-09-29T14:31:52.491Z"
   },
   {
    "duration": 153,
    "start_time": "2022-09-29T14:33:39.392Z"
   },
   {
    "duration": 134,
    "start_time": "2022-09-29T14:47:52.063Z"
   },
   {
    "duration": 852,
    "start_time": "2022-09-29T14:48:02.872Z"
   },
   {
    "duration": 21,
    "start_time": "2022-09-29T14:49:37.488Z"
   },
   {
    "duration": 164,
    "start_time": "2022-09-29T14:49:42.247Z"
   },
   {
    "duration": 846,
    "start_time": "2022-09-29T14:49:50.067Z"
   },
   {
    "duration": 13,
    "start_time": "2022-09-29T14:50:09.625Z"
   },
   {
    "duration": 3,
    "start_time": "2022-09-29T14:50:13.050Z"
   },
   {
    "duration": 16,
    "start_time": "2022-09-29T14:55:24.793Z"
   },
   {
    "duration": 3,
    "start_time": "2022-09-29T14:55:26.782Z"
   },
   {
    "duration": 19,
    "start_time": "2022-09-29T14:55:33.889Z"
   },
   {
    "duration": 5,
    "start_time": "2022-09-29T14:55:37.648Z"
   },
   {
    "duration": 11,
    "start_time": "2022-09-29T14:58:27.183Z"
   },
   {
    "duration": 3,
    "start_time": "2022-09-29T14:58:28.717Z"
   },
   {
    "duration": 40,
    "start_time": "2022-09-29T15:05:25.094Z"
   },
   {
    "duration": 13,
    "start_time": "2022-09-29T15:05:59.144Z"
   },
   {
    "duration": 3,
    "start_time": "2022-09-29T15:06:00.574Z"
   },
   {
    "duration": 73,
    "start_time": "2022-09-29T15:06:02.174Z"
   },
   {
    "duration": 52,
    "start_time": "2022-09-29T22:25:30.724Z"
   },
   {
    "duration": 7,
    "start_time": "2022-09-29T22:26:03.911Z"
   },
   {
    "duration": 1602,
    "start_time": "2022-09-29T22:26:21.249Z"
   },
   {
    "duration": 81,
    "start_time": "2022-09-29T22:26:22.853Z"
   },
   {
    "duration": 13,
    "start_time": "2022-09-29T22:26:22.936Z"
   },
   {
    "duration": 16,
    "start_time": "2022-09-29T22:26:22.951Z"
   },
   {
    "duration": 50,
    "start_time": "2022-09-29T22:26:22.968Z"
   },
   {
    "duration": 3,
    "start_time": "2022-09-29T22:26:23.020Z"
   },
   {
    "duration": 34,
    "start_time": "2022-09-29T22:26:23.025Z"
   },
   {
    "duration": 5,
    "start_time": "2022-09-29T22:26:23.060Z"
   },
   {
    "duration": 18,
    "start_time": "2022-09-29T22:26:23.066Z"
   },
   {
    "duration": 134,
    "start_time": "2022-09-29T22:26:23.086Z"
   },
   {
    "duration": 8,
    "start_time": "2022-09-29T22:26:23.222Z"
   },
   {
    "duration": 23,
    "start_time": "2022-09-29T22:26:23.232Z"
   },
   {
    "duration": 3,
    "start_time": "2022-09-29T22:26:23.257Z"
   },
   {
    "duration": 10,
    "start_time": "2022-09-29T22:26:23.261Z"
   },
   {
    "duration": 8,
    "start_time": "2022-09-29T22:26:23.273Z"
   },
   {
    "duration": 12,
    "start_time": "2022-09-29T22:26:23.283Z"
   },
   {
    "duration": 38,
    "start_time": "2022-09-29T22:26:23.297Z"
   },
   {
    "duration": 25,
    "start_time": "2022-09-29T22:26:23.337Z"
   },
   {
    "duration": 157,
    "start_time": "2022-09-29T22:26:23.364Z"
   },
   {
    "duration": 857,
    "start_time": "2022-09-29T22:26:23.523Z"
   },
   {
    "duration": 23,
    "start_time": "2022-09-29T22:26:24.382Z"
   },
   {
    "duration": 168,
    "start_time": "2022-09-29T22:26:24.408Z"
   },
   {
    "duration": 771,
    "start_time": "2022-09-29T22:26:24.578Z"
   },
   {
    "duration": 16,
    "start_time": "2022-09-29T22:26:25.353Z"
   },
   {
    "duration": 4,
    "start_time": "2022-09-29T22:27:41.865Z"
   },
   {
    "duration": 27,
    "start_time": "2022-09-29T22:29:19.568Z"
   },
   {
    "duration": 6,
    "start_time": "2022-09-29T22:29:34.530Z"
   },
   {
    "duration": 22,
    "start_time": "2022-09-29T22:32:21.974Z"
   },
   {
    "duration": 4,
    "start_time": "2022-09-29T22:32:22.908Z"
   },
   {
    "duration": 11,
    "start_time": "2022-09-29T22:32:28.984Z"
   },
   {
    "duration": 4,
    "start_time": "2022-09-29T22:32:29.572Z"
   },
   {
    "duration": 5,
    "start_time": "2022-09-29T22:32:30.445Z"
   },
   {
    "duration": 32,
    "start_time": "2022-09-29T22:32:41.529Z"
   },
   {
    "duration": 25,
    "start_time": "2022-09-29T22:57:07.841Z"
   },
   {
    "duration": 27,
    "start_time": "2022-09-29T22:57:49.972Z"
   },
   {
    "duration": 278,
    "start_time": "2022-09-29T23:00:06.329Z"
   },
   {
    "duration": 1047,
    "start_time": "2022-09-29T23:21:45.771Z"
   },
   {
    "duration": 83,
    "start_time": "2022-09-29T23:23:02.687Z"
   },
   {
    "duration": 17,
    "start_time": "2022-09-29T23:23:13.090Z"
   },
   {
    "duration": 23,
    "start_time": "2022-09-29T23:25:27.024Z"
   },
   {
    "duration": 15,
    "start_time": "2022-09-29T23:25:54.942Z"
   },
   {
    "duration": 39,
    "start_time": "2022-09-29T23:26:41.761Z"
   },
   {
    "duration": 43,
    "start_time": "2022-09-29T23:27:17.057Z"
   },
   {
    "duration": 12,
    "start_time": "2022-09-29T23:27:42.565Z"
   },
   {
    "duration": 13,
    "start_time": "2022-09-29T23:27:54.581Z"
   },
   {
    "duration": 32,
    "start_time": "2022-09-29T23:28:34.319Z"
   },
   {
    "duration": 341,
    "start_time": "2022-09-29T23:28:59.887Z"
   },
   {
    "duration": 301,
    "start_time": "2022-09-29T23:29:05.470Z"
   },
   {
    "duration": 1933,
    "start_time": "2022-09-29T23:29:13.097Z"
   },
   {
    "duration": 3108,
    "start_time": "2022-09-29T23:29:28.794Z"
   },
   {
    "duration": 4454,
    "start_time": "2022-09-29T23:29:38.647Z"
   },
   {
    "duration": 1983,
    "start_time": "2022-09-29T23:29:49.429Z"
   },
   {
    "duration": 13,
    "start_time": "2022-09-29T23:29:56.496Z"
   },
   {
    "duration": 7,
    "start_time": "2022-09-29T23:30:19.585Z"
   },
   {
    "duration": 43,
    "start_time": "2022-09-29T23:30:19.594Z"
   },
   {
    "duration": 14,
    "start_time": "2022-09-29T23:30:19.639Z"
   },
   {
    "duration": 22,
    "start_time": "2022-09-29T23:30:19.655Z"
   },
   {
    "duration": 117,
    "start_time": "2022-09-29T23:30:19.680Z"
   },
   {
    "duration": 5,
    "start_time": "2022-09-29T23:30:19.799Z"
   },
   {
    "duration": 16,
    "start_time": "2022-09-29T23:30:19.806Z"
   },
   {
    "duration": 5,
    "start_time": "2022-09-29T23:30:19.824Z"
   },
   {
    "duration": 33,
    "start_time": "2022-09-29T23:30:19.831Z"
   },
   {
    "duration": 131,
    "start_time": "2022-09-29T23:30:19.866Z"
   },
   {
    "duration": 6,
    "start_time": "2022-09-29T23:30:20.000Z"
   },
   {
    "duration": 23,
    "start_time": "2022-09-29T23:30:20.008Z"
   },
   {
    "duration": 32,
    "start_time": "2022-09-29T23:30:20.032Z"
   },
   {
    "duration": 18,
    "start_time": "2022-09-29T23:30:20.066Z"
   },
   {
    "duration": 14,
    "start_time": "2022-09-29T23:30:20.086Z"
   },
   {
    "duration": 16,
    "start_time": "2022-09-29T23:30:20.102Z"
   },
   {
    "duration": 39,
    "start_time": "2022-09-29T23:30:20.120Z"
   },
   {
    "duration": 23,
    "start_time": "2022-09-29T23:30:20.161Z"
   },
   {
    "duration": 150,
    "start_time": "2022-09-29T23:30:20.187Z"
   },
   {
    "duration": 825,
    "start_time": "2022-09-29T23:30:20.339Z"
   },
   {
    "duration": 19,
    "start_time": "2022-09-29T23:30:21.166Z"
   },
   {
    "duration": 160,
    "start_time": "2022-09-29T23:30:21.187Z"
   },
   {
    "duration": 841,
    "start_time": "2022-09-29T23:30:21.349Z"
   },
   {
    "duration": 10,
    "start_time": "2022-09-29T23:30:22.192Z"
   },
   {
    "duration": 32,
    "start_time": "2022-09-29T23:30:22.204Z"
   },
   {
    "duration": 25,
    "start_time": "2022-09-29T23:30:22.237Z"
   },
   {
    "duration": 52,
    "start_time": "2022-09-29T23:30:22.265Z"
   },
   {
    "duration": 283,
    "start_time": "2022-09-29T23:30:22.319Z"
   },
   {
    "duration": 1969,
    "start_time": "2022-09-29T23:30:22.605Z"
   },
   {
    "duration": 14,
    "start_time": "2022-09-29T23:30:29.064Z"
   },
   {
    "duration": 188,
    "start_time": "2022-09-29T23:31:06.063Z"
   },
   {
    "duration": 14,
    "start_time": "2022-09-29T23:31:16.209Z"
   },
   {
    "duration": 33,
    "start_time": "2022-09-29T23:31:21.358Z"
   },
   {
    "duration": 11,
    "start_time": "2022-09-29T23:32:55.972Z"
   },
   {
    "duration": 3,
    "start_time": "2022-09-29T23:32:57.224Z"
   },
   {
    "duration": 6,
    "start_time": "2022-09-29T23:32:58.224Z"
   },
   {
    "duration": 29,
    "start_time": "2022-09-29T23:33:10.928Z"
   },
   {
    "duration": 203,
    "start_time": "2022-09-29T23:33:12.212Z"
   },
   {
    "duration": 14,
    "start_time": "2022-09-29T23:33:22.048Z"
   },
   {
    "duration": 33,
    "start_time": "2022-09-29T23:33:26.286Z"
   },
   {
    "duration": 11,
    "start_time": "2022-09-29T23:33:49.070Z"
   },
   {
    "duration": 4,
    "start_time": "2022-09-29T23:33:49.763Z"
   },
   {
    "duration": 6,
    "start_time": "2022-09-29T23:33:50.411Z"
   },
   {
    "duration": 13,
    "start_time": "2022-09-29T23:34:00.726Z"
   },
   {
    "duration": 3,
    "start_time": "2022-09-29T23:34:01.356Z"
   },
   {
    "duration": 5,
    "start_time": "2022-09-29T23:34:02.116Z"
   },
   {
    "duration": 10,
    "start_time": "2022-09-29T23:34:08.463Z"
   },
   {
    "duration": 3,
    "start_time": "2022-09-29T23:34:08.902Z"
   },
   {
    "duration": 6,
    "start_time": "2022-09-29T23:34:09.475Z"
   },
   {
    "duration": 9,
    "start_time": "2022-09-29T23:34:14.659Z"
   },
   {
    "duration": 3,
    "start_time": "2022-09-29T23:34:15.165Z"
   },
   {
    "duration": 6,
    "start_time": "2022-09-29T23:34:15.774Z"
   },
   {
    "duration": 10,
    "start_time": "2022-09-29T23:34:22.697Z"
   },
   {
    "duration": 3,
    "start_time": "2022-09-29T23:34:23.149Z"
   },
   {
    "duration": 6,
    "start_time": "2022-09-29T23:34:23.861Z"
   },
   {
    "duration": 27,
    "start_time": "2022-09-29T23:34:28.714Z"
   },
   {
    "duration": 192,
    "start_time": "2022-09-29T23:34:37.280Z"
   },
   {
    "duration": 1901,
    "start_time": "2022-09-29T23:34:42.651Z"
   },
   {
    "duration": 198,
    "start_time": "2022-09-29T23:35:14.463Z"
   },
   {
    "duration": 1965,
    "start_time": "2022-09-29T23:35:43.628Z"
   },
   {
    "duration": 14,
    "start_time": "2022-09-29T23:35:50.439Z"
   },
   {
    "duration": 378,
    "start_time": "2022-09-29T23:36:01.777Z"
   },
   {
    "duration": 188,
    "start_time": "2022-09-29T23:36:07.836Z"
   },
   {
    "duration": 1615,
    "start_time": "2022-09-30T10:08:48.417Z"
   },
   {
    "duration": 83,
    "start_time": "2022-09-30T10:08:50.034Z"
   },
   {
    "duration": 15,
    "start_time": "2022-09-30T10:08:50.119Z"
   },
   {
    "duration": 31,
    "start_time": "2022-09-30T10:08:50.137Z"
   },
   {
    "duration": 80,
    "start_time": "2022-09-30T10:08:50.171Z"
   },
   {
    "duration": 4,
    "start_time": "2022-09-30T10:08:50.253Z"
   },
   {
    "duration": 21,
    "start_time": "2022-09-30T10:08:50.258Z"
   },
   {
    "duration": 5,
    "start_time": "2022-09-30T10:08:50.281Z"
   },
   {
    "duration": 19,
    "start_time": "2022-09-30T10:08:50.288Z"
   },
   {
    "duration": 159,
    "start_time": "2022-09-30T10:08:50.309Z"
   },
   {
    "duration": 6,
    "start_time": "2022-09-30T10:08:50.470Z"
   },
   {
    "duration": 6,
    "start_time": "2022-09-30T10:08:50.478Z"
   },
   {
    "duration": 6,
    "start_time": "2022-09-30T10:08:50.485Z"
   },
   {
    "duration": 5,
    "start_time": "2022-09-30T10:08:50.494Z"
   },
   {
    "duration": 37,
    "start_time": "2022-09-30T10:08:50.501Z"
   },
   {
    "duration": 6,
    "start_time": "2022-09-30T10:08:50.541Z"
   },
   {
    "duration": 43,
    "start_time": "2022-09-30T10:08:50.550Z"
   },
   {
    "duration": 26,
    "start_time": "2022-09-30T10:08:50.595Z"
   },
   {
    "duration": 172,
    "start_time": "2022-09-30T10:08:50.639Z"
   },
   {
    "duration": 886,
    "start_time": "2022-09-30T10:08:50.813Z"
   },
   {
    "duration": 21,
    "start_time": "2022-09-30T10:08:51.700Z"
   },
   {
    "duration": 180,
    "start_time": "2022-09-30T10:08:51.723Z"
   },
   {
    "duration": 846,
    "start_time": "2022-09-30T10:08:51.905Z"
   },
   {
    "duration": 10,
    "start_time": "2022-09-30T10:08:52.753Z"
   },
   {
    "duration": 4,
    "start_time": "2022-09-30T10:08:52.765Z"
   },
   {
    "duration": 8,
    "start_time": "2022-09-30T10:08:52.770Z"
   },
   {
    "duration": 29,
    "start_time": "2022-09-30T10:08:52.779Z"
   },
   {
    "duration": 233,
    "start_time": "2022-09-30T10:08:52.809Z"
   },
   {
    "duration": 2083,
    "start_time": "2022-09-30T10:08:53.044Z"
   },
   {
    "duration": 12,
    "start_time": "2022-09-30T10:08:55.129Z"
   },
   {
    "duration": 121,
    "start_time": "2022-09-30T10:11:12.125Z"
   },
   {
    "duration": 121,
    "start_time": "2022-09-30T10:11:52.518Z"
   },
   {
    "duration": 199,
    "start_time": "2022-09-30T10:12:01.157Z"
   },
   {
    "duration": 11,
    "start_time": "2022-09-30T10:13:52.710Z"
   },
   {
    "duration": 36,
    "start_time": "2022-09-30T10:14:02.226Z"
   },
   {
    "duration": 122,
    "start_time": "2022-09-30T10:14:03.978Z"
   },
   {
    "duration": 1489,
    "start_time": "2022-09-30T14:29:07.799Z"
   },
   {
    "duration": 77,
    "start_time": "2022-09-30T14:29:09.290Z"
   },
   {
    "duration": 14,
    "start_time": "2022-09-30T14:29:09.368Z"
   },
   {
    "duration": 16,
    "start_time": "2022-09-30T14:29:09.383Z"
   },
   {
    "duration": 62,
    "start_time": "2022-09-30T14:29:09.401Z"
   },
   {
    "duration": 4,
    "start_time": "2022-09-30T14:29:09.466Z"
   },
   {
    "duration": 34,
    "start_time": "2022-09-30T14:29:09.471Z"
   },
   {
    "duration": 4,
    "start_time": "2022-09-30T14:29:09.507Z"
   },
   {
    "duration": 14,
    "start_time": "2022-09-30T14:29:09.512Z"
   },
   {
    "duration": 139,
    "start_time": "2022-09-30T14:29:09.528Z"
   },
   {
    "duration": 6,
    "start_time": "2022-09-30T14:29:09.668Z"
   },
   {
    "duration": 4,
    "start_time": "2022-09-30T14:29:13.091Z"
   },
   {
    "duration": 3,
    "start_time": "2022-09-30T14:29:14.955Z"
   },
   {
    "duration": 5,
    "start_time": "2022-09-30T14:29:18.694Z"
   },
   {
    "duration": 4,
    "start_time": "2022-09-30T14:29:19.403Z"
   },
   {
    "duration": 3,
    "start_time": "2022-09-30T14:29:20.162Z"
   },
   {
    "duration": 29,
    "start_time": "2022-09-30T14:30:27.243Z"
   },
   {
    "duration": 24,
    "start_time": "2022-09-30T14:30:31.124Z"
   },
   {
    "duration": 133,
    "start_time": "2022-09-30T14:30:35.210Z"
   },
   {
    "duration": 721,
    "start_time": "2022-09-30T14:30:38.439Z"
   },
   {
    "duration": 20,
    "start_time": "2022-09-30T14:30:45.007Z"
   },
   {
    "duration": 134,
    "start_time": "2022-09-30T14:30:48.338Z"
   },
   {
    "duration": 10,
    "start_time": "2022-09-30T14:30:53.848Z"
   },
   {
    "duration": 4,
    "start_time": "2022-09-30T14:30:56.125Z"
   },
   {
    "duration": 5,
    "start_time": "2022-09-30T14:30:59.723Z"
   },
   {
    "duration": 28,
    "start_time": "2022-09-30T14:31:02.167Z"
   },
   {
    "duration": 170,
    "start_time": "2022-09-30T14:31:06.790Z"
   },
   {
    "duration": 1759,
    "start_time": "2022-09-30T14:31:10.689Z"
   },
   {
    "duration": 11,
    "start_time": "2022-09-30T14:31:19.491Z"
   },
   {
    "duration": 105,
    "start_time": "2022-09-30T14:31:28.726Z"
   },
   {
    "duration": 23,
    "start_time": "2022-09-30T14:31:32.810Z"
   },
   {
    "duration": 108,
    "start_time": "2022-09-30T14:31:38.910Z"
   },
   {
    "duration": 1278,
    "start_time": "2022-09-30T14:43:50.711Z"
   },
   {
    "duration": 43,
    "start_time": "2022-09-30T14:43:51.991Z"
   },
   {
    "duration": 12,
    "start_time": "2022-09-30T14:43:52.036Z"
   },
   {
    "duration": 17,
    "start_time": "2022-09-30T14:43:52.050Z"
   },
   {
    "duration": 49,
    "start_time": "2022-09-30T14:43:52.068Z"
   },
   {
    "duration": 3,
    "start_time": "2022-09-30T14:43:52.118Z"
   },
   {
    "duration": 14,
    "start_time": "2022-09-30T14:43:52.122Z"
   },
   {
    "duration": 3,
    "start_time": "2022-09-30T14:43:52.138Z"
   },
   {
    "duration": 12,
    "start_time": "2022-09-30T14:43:52.142Z"
   },
   {
    "duration": 123,
    "start_time": "2022-09-30T14:43:52.156Z"
   },
   {
    "duration": 5,
    "start_time": "2022-09-30T14:43:52.281Z"
   },
   {
    "duration": 15,
    "start_time": "2022-09-30T14:43:52.287Z"
   },
   {
    "duration": 4,
    "start_time": "2022-09-30T14:43:52.303Z"
   },
   {
    "duration": 8,
    "start_time": "2022-09-30T14:43:52.308Z"
   },
   {
    "duration": 7,
    "start_time": "2022-09-30T14:43:52.317Z"
   },
   {
    "duration": 6,
    "start_time": "2022-09-30T14:43:52.325Z"
   },
   {
    "duration": 29,
    "start_time": "2022-09-30T14:43:52.332Z"
   },
   {
    "duration": 41,
    "start_time": "2022-09-30T14:43:52.363Z"
   },
   {
    "duration": 297,
    "start_time": "2022-09-30T14:43:52.405Z"
   },
   {
    "duration": 772,
    "start_time": "2022-09-30T14:43:52.704Z"
   },
   {
    "duration": 28,
    "start_time": "2022-09-30T14:43:53.477Z"
   },
   {
    "duration": 329,
    "start_time": "2022-09-30T14:43:53.507Z"
   },
   {
    "duration": 763,
    "start_time": "2022-09-30T14:43:53.838Z"
   },
   {
    "duration": 11,
    "start_time": "2022-09-30T14:43:54.605Z"
   },
   {
    "duration": 25,
    "start_time": "2022-09-30T14:43:54.618Z"
   },
   {
    "duration": 17,
    "start_time": "2022-09-30T14:43:54.645Z"
   },
   {
    "duration": 37,
    "start_time": "2022-09-30T14:43:54.664Z"
   },
   {
    "duration": 357,
    "start_time": "2022-09-30T14:43:54.705Z"
   },
   {
    "duration": 1788,
    "start_time": "2022-09-30T14:43:55.064Z"
   },
   {
    "duration": 10,
    "start_time": "2022-09-30T14:43:56.854Z"
   },
   {
    "duration": 118,
    "start_time": "2022-09-30T14:43:56.865Z"
   },
   {
    "duration": 28,
    "start_time": "2022-09-30T14:43:56.985Z"
   },
   {
    "duration": 111,
    "start_time": "2022-09-30T14:43:57.015Z"
   }
  ],
  "kernelspec": {
   "display_name": "Python 3 (ipykernel)",
   "language": "python",
   "name": "python3"
  },
  "language_info": {
   "codemirror_mode": {
    "name": "ipython",
    "version": 3
   },
   "file_extension": ".py",
   "mimetype": "text/x-python",
   "name": "python",
   "nbconvert_exporter": "python",
   "pygments_lexer": "ipython3",
   "version": "3.9.13"
  },
  "toc": {
   "base_numbering": 1,
   "nav_menu": {},
   "number_sections": true,
   "sideBar": true,
   "skip_h1_title": true,
   "title_cell": "Содержание",
   "title_sidebar": "Contents",
   "toc_cell": true,
   "toc_position": {
    "height": "calc(100% - 180px)",
    "left": "10px",
    "top": "150px",
    "width": "165px"
   },
   "toc_section_display": true,
   "toc_window_display": true
  }
 },
 "nbformat": 4,
 "nbformat_minor": 2
}
